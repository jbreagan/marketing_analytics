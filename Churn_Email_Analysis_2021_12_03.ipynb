{
 "cells": [
  {
   "cell_type": "code",
   "execution_count": 7,
   "metadata": {},
   "outputs": [],
   "source": [
    "# Packages imports\n",
    "import numpy as np\n",
    "import pandas as pd\n",
    "import scipy.stats as stats\n",
    "import statsmodels.stats.api as sms\n",
    "import matplotlib as mpl\n",
    "import matplotlib.pyplot as plt\n",
    "import seaborn as sns\n",
    "from math import ceil\n",
    "\n",
    "%matplotlib inline"
   ]
  },
  {
   "cell_type": "code",
   "execution_count": 6,
   "metadata": {},
   "outputs": [
    {
     "data": {
      "text/plain": [
       "8504"
      ]
     },
     "execution_count": 6,
     "metadata": {},
     "output_type": "execute_result"
    }
   ],
   "source": [
    "#Power analysis - Minimum required sample size for Test and Control Groups \n",
    "\n",
    "def get_two_proportions_sample_size(\n",
    "    p1,\n",
    "    p2,\n",
    "    alpha=0.05,\n",
    "    beta=0.2,\n",
    "    two_side=False\n",
    "):\n",
    "    if two_side:\n",
    "        z_a = stats.norm.ppf(1-alpha/2)\n",
    "    else:\n",
    "        z_a = stats.norm.ppf(1-alpha)\n",
    "    z_b = stats.norm.ppf(1 - beta)\n",
    "    \n",
    "    delta = abs(p1 - p2)\n",
    "    p_bar = (p1 + p2) / 2\n",
    "    q_bar = 1 - p_bar\n",
    "    q1 = 1 - p1\n",
    "    q2 = 1 - p2\n",
    "    \n",
    "    n = (np.sqrt(p_bar*q_bar*2)*z_a + np.sqrt(p1*q1+p2*q2)*z_b)**2 / (delta**2)\n",
    "    return int(np.ceil(n))\n",
    "\n",
    "get_two_proportions_sample_size(0.015, 0.02)"
   ]
  },
  {
   "cell_type": "code",
   "execution_count": 8,
   "metadata": {},
   "outputs": [
    {
     "name": "stdout",
     "output_type": "stream",
     "text": [
      "There are 0 users that appear multiple times in the dataset\n"
     ]
    }
   ],
   "source": [
    "#Import dataframe, Check for duplicate users\n",
    "\n",
    "df = pd.read_csv('churn_email_2021_12_03.csv')\n",
    "duplicate_counts = df['renter_id'].value_counts(ascending=False)\n",
    "multi_users = duplicate_counts[duplicate_counts > 1].count()\n",
    "\n",
    "print(f'There are {multi_users} users that appear multiple times in the dataset')"
   ]
  },
  {
   "cell_type": "code",
   "execution_count": 9,
   "metadata": {},
   "outputs": [
    {
     "data": {
      "text/plain": [
       "renter_id                 0\n",
       "test_group                0\n",
       "rental_count              0\n",
       "total_gross_revenue       0\n",
       "promocode_spend_amount    0\n",
       "dtype: int64"
      ]
     },
     "execution_count": 9,
     "metadata": {},
     "output_type": "execute_result"
    }
   ],
   "source": [
    "#Check for null values\n",
    "\n",
    "df.isnull().sum()"
   ]
  },
  {
   "cell_type": "code",
   "execution_count": 17,
   "metadata": {},
   "outputs": [],
   "source": [
    "#New boolean column added for converted vs non-converted\n",
    "\n",
    "converted = df['rental_count'] > 0\n",
    "df['converted'] = converted.astype('int')"
   ]
  },
  {
   "cell_type": "code",
   "execution_count": 10,
   "metadata": {},
   "outputs": [
    {
     "data": {
      "text/html": [
       "<style  type=\"text/css\" >\n",
       "</style><table id=\"T_0b4520ca_59ee_11ec_a16d_0028f8afd2fe\" ><thead>    <tr>        <th class=\"blank level0\" ></th>        <th class=\"col_heading level0 col0\" colspan=8>rental_count</th>        <th class=\"col_heading level0 col8\" colspan=8>total_gross_revenue</th>        <th class=\"col_heading level0 col16\" colspan=8>promocode_spend_amount</th>    </tr>    <tr>        <th class=\"blank level1\" ></th>        <th class=\"col_heading level1 col0\" >count</th>        <th class=\"col_heading level1 col1\" >mean</th>        <th class=\"col_heading level1 col2\" >std</th>        <th class=\"col_heading level1 col3\" >min</th>        <th class=\"col_heading level1 col4\" >25%</th>        <th class=\"col_heading level1 col5\" >50%</th>        <th class=\"col_heading level1 col6\" >75%</th>        <th class=\"col_heading level1 col7\" >max</th>        <th class=\"col_heading level1 col8\" >count</th>        <th class=\"col_heading level1 col9\" >mean</th>        <th class=\"col_heading level1 col10\" >std</th>        <th class=\"col_heading level1 col11\" >min</th>        <th class=\"col_heading level1 col12\" >25%</th>        <th class=\"col_heading level1 col13\" >50%</th>        <th class=\"col_heading level1 col14\" >75%</th>        <th class=\"col_heading level1 col15\" >max</th>        <th class=\"col_heading level1 col16\" >count</th>        <th class=\"col_heading level1 col17\" >mean</th>        <th class=\"col_heading level1 col18\" >std</th>        <th class=\"col_heading level1 col19\" >min</th>        <th class=\"col_heading level1 col20\" >25%</th>        <th class=\"col_heading level1 col21\" >50%</th>        <th class=\"col_heading level1 col22\" >75%</th>        <th class=\"col_heading level1 col23\" >max</th>    </tr>    <tr>        <th class=\"index_name level0\" >test_group</th>        <th class=\"blank\" ></th>        <th class=\"blank\" ></th>        <th class=\"blank\" ></th>        <th class=\"blank\" ></th>        <th class=\"blank\" ></th>        <th class=\"blank\" ></th>        <th class=\"blank\" ></th>        <th class=\"blank\" ></th>        <th class=\"blank\" ></th>        <th class=\"blank\" ></th>        <th class=\"blank\" ></th>        <th class=\"blank\" ></th>        <th class=\"blank\" ></th>        <th class=\"blank\" ></th>        <th class=\"blank\" ></th>        <th class=\"blank\" ></th>        <th class=\"blank\" ></th>        <th class=\"blank\" ></th>        <th class=\"blank\" ></th>        <th class=\"blank\" ></th>        <th class=\"blank\" ></th>        <th class=\"blank\" ></th>        <th class=\"blank\" ></th>        <th class=\"blank\" ></th>    </tr></thead><tbody>\n",
       "                <tr>\n",
       "                        <th id=\"T_0b4520ca_59ee_11ec_a16d_0028f8afd2felevel0_row0\" class=\"row_heading level0 row0\" >Control</th>\n",
       "                        <td id=\"T_0b4520ca_59ee_11ec_a16d_0028f8afd2ferow0_col0\" class=\"data row0 col0\" >41320.0</td>\n",
       "                        <td id=\"T_0b4520ca_59ee_11ec_a16d_0028f8afd2ferow0_col1\" class=\"data row0 col1\" >1.8</td>\n",
       "                        <td id=\"T_0b4520ca_59ee_11ec_a16d_0028f8afd2ferow0_col2\" class=\"data row0 col2\" >2.0</td>\n",
       "                        <td id=\"T_0b4520ca_59ee_11ec_a16d_0028f8afd2ferow0_col3\" class=\"data row0 col3\" >0.0</td>\n",
       "                        <td id=\"T_0b4520ca_59ee_11ec_a16d_0028f8afd2ferow0_col4\" class=\"data row0 col4\" >1.0</td>\n",
       "                        <td id=\"T_0b4520ca_59ee_11ec_a16d_0028f8afd2ferow0_col5\" class=\"data row0 col5\" >1.0</td>\n",
       "                        <td id=\"T_0b4520ca_59ee_11ec_a16d_0028f8afd2ferow0_col6\" class=\"data row0 col6\" >2.0</td>\n",
       "                        <td id=\"T_0b4520ca_59ee_11ec_a16d_0028f8afd2ferow0_col7\" class=\"data row0 col7\" >32.0</td>\n",
       "                        <td id=\"T_0b4520ca_59ee_11ec_a16d_0028f8afd2ferow0_col8\" class=\"data row0 col8\" >41320.0</td>\n",
       "                        <td id=\"T_0b4520ca_59ee_11ec_a16d_0028f8afd2ferow0_col9\" class=\"data row0 col9\" >39.5</td>\n",
       "                        <td id=\"T_0b4520ca_59ee_11ec_a16d_0028f8afd2ferow0_col10\" class=\"data row0 col10\" >48.3</td>\n",
       "                        <td id=\"T_0b4520ca_59ee_11ec_a16d_0028f8afd2ferow0_col11\" class=\"data row0 col11\" >0.0</td>\n",
       "                        <td id=\"T_0b4520ca_59ee_11ec_a16d_0028f8afd2ferow0_col12\" class=\"data row0 col12\" >14.0</td>\n",
       "                        <td id=\"T_0b4520ca_59ee_11ec_a16d_0028f8afd2ferow0_col13\" class=\"data row0 col13\" >25.0</td>\n",
       "                        <td id=\"T_0b4520ca_59ee_11ec_a16d_0028f8afd2ferow0_col14\" class=\"data row0 col14\" >46.0</td>\n",
       "                        <td id=\"T_0b4520ca_59ee_11ec_a16d_0028f8afd2ferow0_col15\" class=\"data row0 col15\" >1343.0</td>\n",
       "                        <td id=\"T_0b4520ca_59ee_11ec_a16d_0028f8afd2ferow0_col16\" class=\"data row0 col16\" >41320.0</td>\n",
       "                        <td id=\"T_0b4520ca_59ee_11ec_a16d_0028f8afd2ferow0_col17\" class=\"data row0 col17\" >0.1</td>\n",
       "                        <td id=\"T_0b4520ca_59ee_11ec_a16d_0028f8afd2ferow0_col18\" class=\"data row0 col18\" >1.3</td>\n",
       "                        <td id=\"T_0b4520ca_59ee_11ec_a16d_0028f8afd2ferow0_col19\" class=\"data row0 col19\" >0.0</td>\n",
       "                        <td id=\"T_0b4520ca_59ee_11ec_a16d_0028f8afd2ferow0_col20\" class=\"data row0 col20\" >0.0</td>\n",
       "                        <td id=\"T_0b4520ca_59ee_11ec_a16d_0028f8afd2ferow0_col21\" class=\"data row0 col21\" >0.0</td>\n",
       "                        <td id=\"T_0b4520ca_59ee_11ec_a16d_0028f8afd2ferow0_col22\" class=\"data row0 col22\" >0.0</td>\n",
       "                        <td id=\"T_0b4520ca_59ee_11ec_a16d_0028f8afd2ferow0_col23\" class=\"data row0 col23\" >66.5</td>\n",
       "            </tr>\n",
       "            <tr>\n",
       "                        <th id=\"T_0b4520ca_59ee_11ec_a16d_0028f8afd2felevel0_row1\" class=\"row_heading level0 row1\" >Tail</th>\n",
       "                        <td id=\"T_0b4520ca_59ee_11ec_a16d_0028f8afd2ferow1_col0\" class=\"data row1 col0\" >403.0</td>\n",
       "                        <td id=\"T_0b4520ca_59ee_11ec_a16d_0028f8afd2ferow1_col1\" class=\"data row1 col1\" >1.8</td>\n",
       "                        <td id=\"T_0b4520ca_59ee_11ec_a16d_0028f8afd2ferow1_col2\" class=\"data row1 col2\" >2.0</td>\n",
       "                        <td id=\"T_0b4520ca_59ee_11ec_a16d_0028f8afd2ferow1_col3\" class=\"data row1 col3\" >0.0</td>\n",
       "                        <td id=\"T_0b4520ca_59ee_11ec_a16d_0028f8afd2ferow1_col4\" class=\"data row1 col4\" >1.0</td>\n",
       "                        <td id=\"T_0b4520ca_59ee_11ec_a16d_0028f8afd2ferow1_col5\" class=\"data row1 col5\" >1.0</td>\n",
       "                        <td id=\"T_0b4520ca_59ee_11ec_a16d_0028f8afd2ferow1_col6\" class=\"data row1 col6\" >2.0</td>\n",
       "                        <td id=\"T_0b4520ca_59ee_11ec_a16d_0028f8afd2ferow1_col7\" class=\"data row1 col7\" >14.0</td>\n",
       "                        <td id=\"T_0b4520ca_59ee_11ec_a16d_0028f8afd2ferow1_col8\" class=\"data row1 col8\" >403.0</td>\n",
       "                        <td id=\"T_0b4520ca_59ee_11ec_a16d_0028f8afd2ferow1_col9\" class=\"data row1 col9\" >39.8</td>\n",
       "                        <td id=\"T_0b4520ca_59ee_11ec_a16d_0028f8afd2ferow1_col10\" class=\"data row1 col10\" >53.9</td>\n",
       "                        <td id=\"T_0b4520ca_59ee_11ec_a16d_0028f8afd2ferow1_col11\" class=\"data row1 col11\" >0.0</td>\n",
       "                        <td id=\"T_0b4520ca_59ee_11ec_a16d_0028f8afd2ferow1_col12\" class=\"data row1 col12\" >14.0</td>\n",
       "                        <td id=\"T_0b4520ca_59ee_11ec_a16d_0028f8afd2ferow1_col13\" class=\"data row1 col13\" >22.5</td>\n",
       "                        <td id=\"T_0b4520ca_59ee_11ec_a16d_0028f8afd2ferow1_col14\" class=\"data row1 col14\" >46.0</td>\n",
       "                        <td id=\"T_0b4520ca_59ee_11ec_a16d_0028f8afd2ferow1_col15\" class=\"data row1 col15\" >489.0</td>\n",
       "                        <td id=\"T_0b4520ca_59ee_11ec_a16d_0028f8afd2ferow1_col16\" class=\"data row1 col16\" >403.0</td>\n",
       "                        <td id=\"T_0b4520ca_59ee_11ec_a16d_0028f8afd2ferow1_col17\" class=\"data row1 col17\" >0.1</td>\n",
       "                        <td id=\"T_0b4520ca_59ee_11ec_a16d_0028f8afd2ferow1_col18\" class=\"data row1 col18\" >1.2</td>\n",
       "                        <td id=\"T_0b4520ca_59ee_11ec_a16d_0028f8afd2ferow1_col19\" class=\"data row1 col19\" >0.0</td>\n",
       "                        <td id=\"T_0b4520ca_59ee_11ec_a16d_0028f8afd2ferow1_col20\" class=\"data row1 col20\" >0.0</td>\n",
       "                        <td id=\"T_0b4520ca_59ee_11ec_a16d_0028f8afd2ferow1_col21\" class=\"data row1 col21\" >0.0</td>\n",
       "                        <td id=\"T_0b4520ca_59ee_11ec_a16d_0028f8afd2ferow1_col22\" class=\"data row1 col22\" >0.0</td>\n",
       "                        <td id=\"T_0b4520ca_59ee_11ec_a16d_0028f8afd2ferow1_col23\" class=\"data row1 col23\" >21.4</td>\n",
       "            </tr>\n",
       "            <tr>\n",
       "                        <th id=\"T_0b4520ca_59ee_11ec_a16d_0028f8afd2felevel0_row2\" class=\"row_heading level0 row2\" >Test</th>\n",
       "                        <td id=\"T_0b4520ca_59ee_11ec_a16d_0028f8afd2ferow2_col0\" class=\"data row2 col0\" >41670.0</td>\n",
       "                        <td id=\"T_0b4520ca_59ee_11ec_a16d_0028f8afd2ferow2_col1\" class=\"data row2 col1\" >1.8</td>\n",
       "                        <td id=\"T_0b4520ca_59ee_11ec_a16d_0028f8afd2ferow2_col2\" class=\"data row2 col2\" >2.0</td>\n",
       "                        <td id=\"T_0b4520ca_59ee_11ec_a16d_0028f8afd2ferow2_col3\" class=\"data row2 col3\" >0.0</td>\n",
       "                        <td id=\"T_0b4520ca_59ee_11ec_a16d_0028f8afd2ferow2_col4\" class=\"data row2 col4\" >1.0</td>\n",
       "                        <td id=\"T_0b4520ca_59ee_11ec_a16d_0028f8afd2ferow2_col5\" class=\"data row2 col5\" >1.0</td>\n",
       "                        <td id=\"T_0b4520ca_59ee_11ec_a16d_0028f8afd2ferow2_col6\" class=\"data row2 col6\" >2.0</td>\n",
       "                        <td id=\"T_0b4520ca_59ee_11ec_a16d_0028f8afd2ferow2_col7\" class=\"data row2 col7\" >27.0</td>\n",
       "                        <td id=\"T_0b4520ca_59ee_11ec_a16d_0028f8afd2ferow2_col8\" class=\"data row2 col8\" >41670.0</td>\n",
       "                        <td id=\"T_0b4520ca_59ee_11ec_a16d_0028f8afd2ferow2_col9\" class=\"data row2 col9\" >39.4</td>\n",
       "                        <td id=\"T_0b4520ca_59ee_11ec_a16d_0028f8afd2ferow2_col10\" class=\"data row2 col10\" >46.7</td>\n",
       "                        <td id=\"T_0b4520ca_59ee_11ec_a16d_0028f8afd2ferow2_col11\" class=\"data row2 col11\" >0.0</td>\n",
       "                        <td id=\"T_0b4520ca_59ee_11ec_a16d_0028f8afd2ferow2_col12\" class=\"data row2 col12\" >14.0</td>\n",
       "                        <td id=\"T_0b4520ca_59ee_11ec_a16d_0028f8afd2ferow2_col13\" class=\"data row2 col13\" >24.0</td>\n",
       "                        <td id=\"T_0b4520ca_59ee_11ec_a16d_0028f8afd2ferow2_col14\" class=\"data row2 col14\" >46.0</td>\n",
       "                        <td id=\"T_0b4520ca_59ee_11ec_a16d_0028f8afd2ferow2_col15\" class=\"data row2 col15\" >700.0</td>\n",
       "                        <td id=\"T_0b4520ca_59ee_11ec_a16d_0028f8afd2ferow2_col16\" class=\"data row2 col16\" >41670.0</td>\n",
       "                        <td id=\"T_0b4520ca_59ee_11ec_a16d_0028f8afd2ferow2_col17\" class=\"data row2 col17\" >0.4</td>\n",
       "                        <td id=\"T_0b4520ca_59ee_11ec_a16d_0028f8afd2ferow2_col18\" class=\"data row2 col18\" >2.2</td>\n",
       "                        <td id=\"T_0b4520ca_59ee_11ec_a16d_0028f8afd2ferow2_col19\" class=\"data row2 col19\" >0.0</td>\n",
       "                        <td id=\"T_0b4520ca_59ee_11ec_a16d_0028f8afd2ferow2_col20\" class=\"data row2 col20\" >0.0</td>\n",
       "                        <td id=\"T_0b4520ca_59ee_11ec_a16d_0028f8afd2ferow2_col21\" class=\"data row2 col21\" >0.0</td>\n",
       "                        <td id=\"T_0b4520ca_59ee_11ec_a16d_0028f8afd2ferow2_col22\" class=\"data row2 col22\" >0.0</td>\n",
       "                        <td id=\"T_0b4520ca_59ee_11ec_a16d_0028f8afd2ferow2_col23\" class=\"data row2 col23\" >111.0</td>\n",
       "            </tr>\n",
       "    </tbody></table>"
      ],
      "text/plain": [
       "<pandas.io.formats.style.Styler at 0x1efff6ffcf8>"
      ]
     },
     "execution_count": 10,
     "metadata": {},
     "output_type": "execute_result"
    }
   ],
   "source": [
    "#Snapshot of group aggregates \n",
    "\n",
    "df[['test_group','rental_count','total_gross_revenue','promocode_spend_amount']].groupby('test_group').describe().style.format('{:.1f}')"
   ]
  },
  {
   "cell_type": "code",
   "execution_count": 14,
   "metadata": {},
   "outputs": [
    {
     "name": "stdout",
     "output_type": "stream",
     "text": [
      "P-Value = 0.5295790828884632. Groups have equal variance\n"
     ]
    }
   ],
   "source": [
    "#homogeneity of variance aka assumption that groups have equal variance. Significant result means unequal variance\n",
    "\n",
    "\n",
    "x,pval = stats.levene(df['rental_count'][df['test_group']== 'Control'],\n",
    "             df['rental_count'][df['test_group']== 'Test'],\n",
    "             center= 'mean')\n",
    "\n",
    "if pval > 0.05:\n",
    "    print('P-Value = {}. Groups have equal variance'.format(pval))\n",
    "else:\n",
    "    print('P-Value = {}. Groups do not have equal variance'.format(pval))"
   ]
  },
  {
   "cell_type": "code",
   "execution_count": 18,
   "metadata": {},
   "outputs": [
    {
     "data": {
      "text/html": [
       "<style  type=\"text/css\" >\n",
       "</style><table id=\"T_053cb22e_59f3_11ec_aef4_0028f8afd2fe\" ><thead>    <tr>        <th class=\"blank level0\" ></th>        <th class=\"col_heading level0 col0\" >conversion_rate</th>        <th class=\"col_heading level0 col1\" >std_deviation</th>        <th class=\"col_heading level0 col2\" >std_error</th>    </tr>    <tr>        <th class=\"index_name level0\" >test_group</th>        <th class=\"blank\" ></th>        <th class=\"blank\" ></th>        <th class=\"blank\" ></th>    </tr></thead><tbody>\n",
       "                <tr>\n",
       "                        <th id=\"T_053cb22e_59f3_11ec_aef4_0028f8afd2felevel0_row0\" class=\"row_heading level0 row0\" >Control</th>\n",
       "                        <td id=\"T_053cb22e_59f3_11ec_aef4_0028f8afd2ferow0_col0\" class=\"data row0 col0\" >0.95</td>\n",
       "                        <td id=\"T_053cb22e_59f3_11ec_aef4_0028f8afd2ferow0_col1\" class=\"data row0 col1\" >0.22</td>\n",
       "                        <td id=\"T_053cb22e_59f3_11ec_aef4_0028f8afd2ferow0_col2\" class=\"data row0 col2\" >0.00</td>\n",
       "            </tr>\n",
       "            <tr>\n",
       "                        <th id=\"T_053cb22e_59f3_11ec_aef4_0028f8afd2felevel0_row1\" class=\"row_heading level0 row1\" >Test</th>\n",
       "                        <td id=\"T_053cb22e_59f3_11ec_aef4_0028f8afd2ferow1_col0\" class=\"data row1 col0\" >0.95</td>\n",
       "                        <td id=\"T_053cb22e_59f3_11ec_aef4_0028f8afd2ferow1_col1\" class=\"data row1 col1\" >0.23</td>\n",
       "                        <td id=\"T_053cb22e_59f3_11ec_aef4_0028f8afd2ferow1_col2\" class=\"data row1 col2\" >0.00</td>\n",
       "            </tr>\n",
       "    </tbody></table>"
      ],
      "text/plain": [
       "<pandas.io.formats.style.Styler at 0x1efffa929e8>"
      ]
     },
     "execution_count": 18,
     "metadata": {},
     "output_type": "execute_result"
    }
   ],
   "source": [
    "#Snapshot of conversion rate and group variance\n",
    "\n",
    "groups = ['Test','Control']\n",
    "df_clean = df[df['test_group'].isin(groups)]\n",
    "\n",
    "conversion_rates = df_clean.groupby('test_group')['converted']\n",
    "\n",
    "std_p = lambda x: np.std(x, ddof=0)              # Std. deviation of the proportion\n",
    "se_p = lambda x: stats.sem(x, ddof=0)            # Std. error of the proportion (std / sqrt(n))\n",
    "\n",
    "conversion_rates = conversion_rates.agg([np.mean, std_p, se_p])\n",
    "conversion_rates.columns = ['conversion_rate', 'std_deviation', 'std_error']\n",
    "\n",
    "\n",
    "conversion_rates.style.format('{:.2f}')"
   ]
  },
  {
   "cell_type": "code",
   "execution_count": 19,
   "metadata": {},
   "outputs": [
    {
     "data": {
      "text/html": [
       "<style  type=\"text/css\" >\n",
       "</style><table id=\"T_0aeda9c0_59f3_11ec_93b2_0028f8afd2fe\" ><thead>    <tr>        <th class=\"blank level0\" ></th>        <th class=\"col_heading level0 col0\" >renter_id</th>        <th class=\"col_heading level0 col1\" >rental_count</th>        <th class=\"col_heading level0 col2\" >total_gross_revenue</th>        <th class=\"col_heading level0 col3\" >promocode_spend_amount</th>        <th class=\"col_heading level0 col4\" >converted</th>        <th class=\"col_heading level0 col5\" >rentals_per_renter</th>        <th class=\"col_heading level0 col6\" >gmv_per_renter</th>        <th class=\"col_heading level0 col7\" >promo_spend_per_renter</th>    </tr>    <tr>        <th class=\"index_name level0\" >test_group</th>        <th class=\"blank\" ></th>        <th class=\"blank\" ></th>        <th class=\"blank\" ></th>        <th class=\"blank\" ></th>        <th class=\"blank\" ></th>        <th class=\"blank\" ></th>        <th class=\"blank\" ></th>        <th class=\"blank\" ></th>    </tr></thead><tbody>\n",
       "                <tr>\n",
       "                        <th id=\"T_0aeda9c0_59f3_11ec_93b2_0028f8afd2felevel0_row0\" class=\"row_heading level0 row0\" >Control</th>\n",
       "                        <td id=\"T_0aeda9c0_59f3_11ec_93b2_0028f8afd2ferow0_col0\" class=\"data row0 col0\" >41320.00</td>\n",
       "                        <td id=\"T_0aeda9c0_59f3_11ec_93b2_0028f8afd2ferow0_col1\" class=\"data row0 col1\" >73816.00</td>\n",
       "                        <td id=\"T_0aeda9c0_59f3_11ec_93b2_0028f8afd2ferow0_col2\" class=\"data row0 col2\" >1632947.53</td>\n",
       "                        <td id=\"T_0aeda9c0_59f3_11ec_93b2_0028f8afd2ferow0_col3\" class=\"data row0 col3\" >5449.84</td>\n",
       "                        <td id=\"T_0aeda9c0_59f3_11ec_93b2_0028f8afd2ferow0_col4\" class=\"data row0 col4\" >39206.00</td>\n",
       "                        <td id=\"T_0aeda9c0_59f3_11ec_93b2_0028f8afd2ferow0_col5\" class=\"data row0 col5\" >1.79</td>\n",
       "                        <td id=\"T_0aeda9c0_59f3_11ec_93b2_0028f8afd2ferow0_col6\" class=\"data row0 col6\" >39.52</td>\n",
       "                        <td id=\"T_0aeda9c0_59f3_11ec_93b2_0028f8afd2ferow0_col7\" class=\"data row0 col7\" >0.13</td>\n",
       "            </tr>\n",
       "            <tr>\n",
       "                        <th id=\"T_0aeda9c0_59f3_11ec_93b2_0028f8afd2felevel0_row1\" class=\"row_heading level0 row1\" >Test</th>\n",
       "                        <td id=\"T_0aeda9c0_59f3_11ec_93b2_0028f8afd2ferow1_col0\" class=\"data row1 col0\" >41670.00</td>\n",
       "                        <td id=\"T_0aeda9c0_59f3_11ec_93b2_0028f8afd2ferow1_col1\" class=\"data row1 col1\" >74011.00</td>\n",
       "                        <td id=\"T_0aeda9c0_59f3_11ec_93b2_0028f8afd2ferow1_col2\" class=\"data row1 col2\" >1641165.11</td>\n",
       "                        <td id=\"T_0aeda9c0_59f3_11ec_93b2_0028f8afd2ferow1_col3\" class=\"data row1 col3\" >15770.79</td>\n",
       "                        <td id=\"T_0aeda9c0_59f3_11ec_93b2_0028f8afd2ferow1_col4\" class=\"data row1 col4\" >39419.00</td>\n",
       "                        <td id=\"T_0aeda9c0_59f3_11ec_93b2_0028f8afd2ferow1_col5\" class=\"data row1 col5\" >1.78</td>\n",
       "                        <td id=\"T_0aeda9c0_59f3_11ec_93b2_0028f8afd2ferow1_col6\" class=\"data row1 col6\" >39.38</td>\n",
       "                        <td id=\"T_0aeda9c0_59f3_11ec_93b2_0028f8afd2ferow1_col7\" class=\"data row1 col7\" >0.38</td>\n",
       "            </tr>\n",
       "    </tbody></table>"
      ],
      "text/plain": [
       "<pandas.io.formats.style.Styler at 0x1efffa92d30>"
      ]
     },
     "execution_count": 19,
     "metadata": {},
     "output_type": "execute_result"
    }
   ],
   "source": [
    "#Aggregates per renter by group\n",
    "\n",
    "sum_columns = ['rental_count', 'total_gross_revenue', 'promocode_spend_amount','converted']\n",
    "stats_per_renter = df_clean.groupby('test_group').agg({'renter_id':'count', 'rental_count': 'sum', 'total_gross_revenue': 'sum', 'promocode_spend_amount': 'sum', 'converted': 'sum'})\n",
    "stats_per_renter['rentals_per_renter'] = stats_per_renter['rental_count'] / stats_per_renter['renter_id']\n",
    "stats_per_renter['gmv_per_renter'] = stats_per_renter['total_gross_revenue'] / stats_per_renter['renter_id']\n",
    "stats_per_renter['promo_spend_per_renter'] = stats_per_renter['promocode_spend_amount'] / stats_per_renter['renter_id']\n",
    "stats_per_renter.style.format('{:.2f}')"
   ]
  },
  {
   "cell_type": "code",
   "execution_count": 20,
   "metadata": {},
   "outputs": [
    {
     "data": {
      "text/plain": [
       "(   Variable        N      Mean        SD        SE  95% Conf.  Interval\n",
       " 0   Control  41320.0  1.786447  2.021219  0.009943   1.766958  1.805936\n",
       " 1      Test  41670.0  1.776122  2.015708  0.009875   1.756768  1.795476\n",
       " 2  combined  82990.0  1.781263  2.018448  0.007007   1.767530  1.794996,\n",
       "                Independent t-test     results\n",
       " 0  Difference (Control - Test) =       0.0103\n",
       " 1           Degrees of freedom =   82988.0000\n",
       " 2                            t =       0.7368\n",
       " 3        Two side test p value =       0.4612\n",
       " 4       Difference < 0 p value =       0.7694\n",
       " 5       Difference > 0 p value =       0.2306\n",
       " 6                    Cohen's d =       0.0051\n",
       " 7                    Hedge's g =       0.0051\n",
       " 8                Glass's delta =       0.0051\n",
       " 9                  Pearson's r =       0.0026)"
      ]
     },
     "execution_count": 20,
     "metadata": {},
     "output_type": "execute_result"
    }
   ],
   "source": [
    "#t-tests for rental, GMV, and promospend values. First 'Rental Count'. Not significant\n",
    "\n",
    "import researchpy as rp\n",
    "\n",
    "rp.ttest(group1= df['rental_count'][df['test_group'] == 'Control'], group1_name= \"Control\",\n",
    "         group2= df['rental_count'][df['test_group'] == 'Test'], group2_name= \"Test\")"
   ]
  },
  {
   "cell_type": "code",
   "execution_count": 21,
   "metadata": {},
   "outputs": [
    {
     "data": {
      "text/plain": [
       "(   Variable        N       Mean         SD        SE  95% Conf.   Interval\n",
       " 0   Control  41320.0  39.519543  48.302610  0.237624  39.053795  39.985291\n",
       " 1      Test  41670.0  39.384812  46.699272  0.228770  38.936419  39.833205\n",
       " 2  combined  82990.0  39.451893  47.504086  0.164899  39.128693  39.775094,\n",
       "                Independent t-test     results\n",
       " 0  Difference (Control - Test) =       0.1347\n",
       " 1           Degrees of freedom =   82988.0000\n",
       " 2                            t =       0.4085\n",
       " 3        Two side test p value =       0.6829\n",
       " 4       Difference < 0 p value =       0.6586\n",
       " 5       Difference > 0 p value =       0.3414\n",
       " 6                    Cohen's d =       0.0028\n",
       " 7                    Hedge's g =       0.0028\n",
       " 8                Glass's delta =       0.0028\n",
       " 9                  Pearson's r =       0.0014)"
      ]
     },
     "execution_count": 21,
     "metadata": {},
     "output_type": "execute_result"
    }
   ],
   "source": [
    "#GMV. Not significant\n",
    "\n",
    "rp.ttest(group1= df['total_gross_revenue'][df['test_group'] == 'Control'], group1_name= \"Control\",\n",
    "         group2= df['total_gross_revenue'][df['test_group'] == 'Test'], group2_name= \"Test\")"
   ]
  },
  {
   "cell_type": "code",
   "execution_count": 22,
   "metadata": {},
   "outputs": [
    {
     "data": {
      "text/plain": [
       "(   Variable        N      Mean        SD        SE  95% Conf.  Interval\n",
       " 0   Control  41320.0  0.131894  1.326445  0.006525   0.119104  0.144684\n",
       " 1      Test  41670.0  0.378469  2.186945  0.010713   0.357470  0.399467\n",
       " 2  combined  82990.0  0.255701  1.814560  0.006299   0.243355  0.268047,\n",
       "                Independent t-test     results\n",
       " 0  Difference (Control - Test) =      -0.2466\n",
       " 1           Degrees of freedom =   82988.0000\n",
       " 2                            t =     -19.6182\n",
       " 3        Two side test p value =       0.0000\n",
       " 4       Difference < 0 p value =       0.0000\n",
       " 5       Difference > 0 p value =       1.0000\n",
       " 6                    Cohen's d =      -0.1362\n",
       " 7                    Hedge's g =      -0.1362\n",
       " 8                Glass's delta =      -0.1859\n",
       " 9                  Pearson's r =       0.0679)"
      ]
     },
     "execution_count": 22,
     "metadata": {},
     "output_type": "execute_result"
    }
   ],
   "source": [
    "#Promo spend. Significant\n",
    "\n",
    "rp.ttest(group1= df['promocode_spend_amount'][df['test_group'] == 'Control'], group1_name= \"Control\",\n",
    "         group2= df['promocode_spend_amount'][df['test_group'] == 'Test'], group2_name= \"Test\")"
   ]
  },
  {
   "cell_type": "code",
   "execution_count": 23,
   "metadata": {},
   "outputs": [
    {
     "data": {
      "text/plain": [
       "3060"
      ]
     },
     "execution_count": 23,
     "metadata": {},
     "output_type": "execute_result"
    }
   ],
   "source": [
    "#import churn deciles and add to main dataframe. Check null values in new column\n",
    "\n",
    "churn_list = pd.read_csv('customer_churn_2021_11_10.txt', delimiter= '\\t')\n",
    "df_plus_churn = pd.merge(df,churn_list[['renter_id', 'decile']],on='renter_id',how='left')\n",
    "df_plus_churn['decile'].isnull().sum()"
   ]
  },
  {
   "cell_type": "code",
   "execution_count": 46,
   "metadata": {},
   "outputs": [],
   "source": [
    "#fill null values with 0. Change data type to int. Create list for looping\n",
    "\n",
    "df_plus_churn['decile'] = df_plus_churn['decile'].fillna(0)\n",
    "df_plus_churn['decile'] = df_plus_churn['decile'].astype(int)\n",
    "deciles = [1,2,3,4,5,6,7,8,9,10]"
   ]
  },
  {
   "cell_type": "code",
   "execution_count": 51,
   "metadata": {},
   "outputs": [
    {
     "name": "stdout",
     "output_type": "stream",
     "text": [
      "T-Test results for decile 1\n",
      "(   Variable       N      Mean        SD        SE  95% Conf.  Interval\n",
      "0   Control  1304.0  0.086887  0.688282  0.019060   0.049495  0.124279\n",
      "1      Test  1451.0  0.323118  1.571396  0.041253   0.242197  0.404040\n",
      "2  combined  2755.0  0.211305  1.240222  0.023629   0.164974  0.257637,                Independent t-test    results\n",
      "0  Difference (Control - Test) =     -0.2362\n",
      "1           Degrees of freedom =   2753.0000\n",
      "2                            t =     -5.0135\n",
      "3        Two side test p value =      0.0000\n",
      "4       Difference < 0 p value =      0.0000\n",
      "5       Difference > 0 p value =      1.0000\n",
      "6                    Cohen's d =     -0.1913\n",
      "7                    Hedge's g =     -0.1913\n",
      "8                Glass's delta =     -0.3432\n",
      "9                  Pearson's r =      0.0951)\n",
      "T-Test results for decile 2\n",
      "(   Variable       N      Mean        SD        SE  95% Conf.  Interval\n",
      "0   Control  1629.0  0.133333  0.972996  0.024107   0.086049  0.180618\n",
      "1      Test  1565.0  0.392506  2.218667  0.056083   0.282499  0.502513\n",
      "2  combined  3194.0  0.260323  1.706057  0.030187   0.201134  0.319512,                Independent t-test    results\n",
      "0  Difference (Control - Test) =     -0.2592\n",
      "1           Degrees of freedom =   3192.0000\n",
      "2                            t =     -4.3036\n",
      "3        Two side test p value =      0.0000\n",
      "4       Difference < 0 p value =      0.0000\n",
      "5       Difference > 0 p value =      1.0000\n",
      "6                    Cohen's d =     -0.1523\n",
      "7                    Hedge's g =     -0.1523\n",
      "8                Glass's delta =     -0.2664\n",
      "9                  Pearson's r =      0.0760)\n",
      "T-Test results for decile 3\n",
      "(   Variable       N      Mean        SD        SE  95% Conf.  Interval\n",
      "0   Control  2541.0  0.113609  0.901482  0.017884   0.078541  0.148677\n",
      "1      Test  2680.0  0.415274  2.552621  0.049308   0.318588  0.511960\n",
      "2  combined  5221.0  0.268457  1.939650  0.026844   0.215831  0.321082,                Independent t-test    results\n",
      "0  Difference (Control - Test) =     -0.3017\n",
      "1           Degrees of freedom =   5219.0000\n",
      "2                            t =     -5.6334\n",
      "3        Two side test p value =      0.0000\n",
      "4       Difference < 0 p value =      0.0000\n",
      "5       Difference > 0 p value =      1.0000\n",
      "6                    Cohen's d =     -0.1560\n",
      "7                    Hedge's g =     -0.1560\n",
      "8                Glass's delta =     -0.3346\n",
      "9                  Pearson's r =      0.0777)\n",
      "T-Test results for decile 4\n",
      "(   Variable       N      Mean        SD        SE  95% Conf.  Interval\n",
      "0   Control   915.0  0.242470  1.954714  0.064621   0.115647  0.369292\n",
      "1      Test   921.0  0.327177  2.117018  0.069758   0.190273  0.464080\n",
      "2  combined  1836.0  0.284962  2.037633  0.047554   0.191696  0.378228,                Independent t-test    results\n",
      "0  Difference (Control - Test) =     -0.0847\n",
      "1           Degrees of freedom =   1834.0000\n",
      "2                            t =     -0.8906\n",
      "3        Two side test p value =      0.3733\n",
      "4       Difference < 0 p value =      0.1866\n",
      "5       Difference > 0 p value =      0.8134\n",
      "6                    Cohen's d =     -0.0416\n",
      "7                    Hedge's g =     -0.0416\n",
      "8                Glass's delta =     -0.0433\n",
      "9                  Pearson's r =      0.0208)\n",
      "T-Test results for decile 5\n",
      "(   Variable       N      Mean        SD        SE  95% Conf.  Interval\n",
      "0   Control   756.0  0.256878  1.597970  0.058118   0.142787  0.370970\n",
      "1      Test   770.0  0.573456  2.667833  0.096142   0.384724  0.762188\n",
      "2  combined  1526.0  0.416619  2.208680  0.056540   0.305715  0.527524,                Independent t-test    results\n",
      "0  Difference (Control - Test) =     -0.3166\n",
      "1           Degrees of freedom =   1524.0000\n",
      "2                            t =     -2.8058\n",
      "3        Two side test p value =      0.0051\n",
      "4       Difference < 0 p value =      0.0025\n",
      "5       Difference > 0 p value =      0.9975\n",
      "6                    Cohen's d =     -0.1437\n",
      "7                    Hedge's g =     -0.1436\n",
      "8                Glass's delta =     -0.1981\n",
      "9                  Pearson's r =      0.0717)\n",
      "T-Test results for decile 6\n",
      "(   Variable       N      Mean        SD        SE  95% Conf.  Interval\n",
      "0   Control  2292.0  0.208591  1.800297  0.037604   0.134849  0.282333\n",
      "1      Test  2132.0  0.362968  2.027795  0.043917   0.276844  0.449092\n",
      "2  combined  4424.0  0.282988  1.914649  0.028786   0.226553  0.339423,                Independent t-test    results\n",
      "0  Difference (Control - Test) =     -0.1544\n",
      "1           Degrees of freedom =   4422.0000\n",
      "2                            t =     -2.6816\n",
      "3        Two side test p value =      0.0074\n",
      "4       Difference < 0 p value =      0.0037\n",
      "5       Difference > 0 p value =      0.9963\n",
      "6                    Cohen's d =     -0.0807\n",
      "7                    Hedge's g =     -0.0807\n",
      "8                Glass's delta =     -0.0858\n",
      "9                  Pearson's r =      0.0403)\n",
      "T-Test results for decile 7\n",
      "(   Variable       N      Mean        SD        SE  95% Conf.  Interval\n",
      "0   Control  2244.0  0.240784  2.127651  0.044915   0.152706  0.328863\n",
      "1      Test  2307.0  0.380182  2.346428  0.048852   0.284383  0.475981\n",
      "2  combined  4551.0  0.311448  2.242062  0.033235   0.246292  0.376605,                Independent t-test    results\n",
      "0  Difference (Control - Test) =     -0.1394\n",
      "1           Degrees of freedom =   4549.0000\n",
      "2                            t =     -2.0977\n",
      "3        Two side test p value =      0.0360\n",
      "4       Difference < 0 p value =      0.0180\n",
      "5       Difference > 0 p value =      0.9820\n",
      "6                    Cohen's d =     -0.0622\n",
      "7                    Hedge's g =     -0.0622\n",
      "8                Glass's delta =     -0.0655\n",
      "9                  Pearson's r =      0.0311)\n",
      "T-Test results for decile 8\n",
      "(   Variable       N      Mean        SD        SE  95% Conf.  Interval\n",
      "0   Control  4510.0  0.147576  1.224460  0.018233   0.111830  0.183321\n",
      "1      Test  4428.0  0.327654  2.114156  0.031771   0.265367  0.389942\n",
      "2  combined  8938.0  0.236789  1.725869  0.018255   0.201005  0.272574,                Independent t-test    results\n",
      "0  Difference (Control - Test) =     -0.1801\n",
      "1           Degrees of freedom =   8936.0000\n",
      "2                            t =     -4.9385\n",
      "3        Two side test p value =      0.0000\n",
      "4       Difference < 0 p value =      0.0000\n",
      "5       Difference > 0 p value =      1.0000\n",
      "6                    Cohen's d =     -0.1045\n",
      "7                    Hedge's g =     -0.1045\n",
      "8                Glass's delta =     -0.1471\n",
      "9                  Pearson's r =      0.0522)\n",
      "T-Test results for decile 9\n",
      "(   Variable        N      Mean        SD        SE  95% Conf.  Interval\n",
      "0   Control   7666.0  0.144457  1.258400  0.014373   0.116283  0.172632\n",
      "1      Test   7806.0  0.366749  2.010446  0.022755   0.322143  0.411355\n",
      "2  combined  15472.0  0.256609  1.684051  0.013539   0.230071  0.283147,                Independent t-test     results\n",
      "0  Difference (Control - Test) =      -0.2223\n",
      "1           Degrees of freedom =   15470.0000\n",
      "2                            t =      -8.2267\n",
      "3        Two side test p value =       0.0000\n",
      "4       Difference < 0 p value =       0.0000\n",
      "5       Difference > 0 p value =       1.0000\n",
      "6                    Cohen's d =      -0.1323\n",
      "7                    Hedge's g =      -0.1323\n",
      "8                Glass's delta =      -0.1766\n",
      "9                  Pearson's r =       0.0660)\n",
      "T-Test results for decile 10\n",
      "(   Variable        N      Mean        SD        SE  95% Conf.  Interval\n",
      "0   Control  15930.0  0.069661  0.996820  0.007898   0.054180  0.085142\n",
      "1      Test  16099.0  0.338357  1.710210  0.013479   0.311937  0.364777\n",
      "2  combined  32029.0  0.204718  1.407948  0.007867   0.189298  0.220138,                Independent t-test     results\n",
      "0  Difference (Control - Test) =      -0.2687\n",
      "1           Degrees of freedom =   32027.0000\n",
      "2                            t =     -17.1550\n",
      "3        Two side test p value =       0.0000\n",
      "4       Difference < 0 p value =       0.0000\n",
      "5       Difference > 0 p value =       1.0000\n",
      "6                    Cohen's d =      -0.1917\n",
      "7                    Hedge's g =      -0.1917\n",
      "8                Glass's delta =      -0.2696\n",
      "9                  Pearson's r =       0.0954)\n"
     ]
    }
   ],
   "source": [
    "#Loop through each decile checking if any are significant. Other than promo spend, no deciles are significantly different\n",
    "\n",
    "for decile in deciles:\n",
    "    filtered_df = df_plus_churn[df_plus_churn['decile'] == decile]\n",
    "    print('T-Test results for decile {}'.format(decile))\n",
    "    print(rp.ttest(group1= filtered_df['promocode_spend_amount'][filtered_df['test_group'] == 'Control'], group1_name= \"Control\",\n",
    "                    group2= filtered_df['promocode_spend_amount'][filtered_df['test_group'] == 'Test'], group2_name= \"Test\"))\n",
    "    "
   ]
  },
  {
   "cell_type": "code",
   "execution_count": 59,
   "metadata": {},
   "outputs": [
    {
     "data": {
      "text/html": [
       "<style  type=\"text/css\" >\n",
       "</style><table id=\"T_b57981c0_59dc_11ec_9cff_0028f8afd2fe\" ><thead>    <tr>        <th class=\"blank level0\" ></th>        <th class=\"col_heading level0 col0\" colspan=2>converted</th>        <th class=\"col_heading level0 col2\" colspan=2>promocode_spend_amount</th>        <th class=\"col_heading level0 col4\" colspan=2>rental_count</th>        <th class=\"col_heading level0 col6\" colspan=2>total_gross_revenue</th>    </tr>    <tr>        <th class=\"index_name level1\" >test_group</th>        <th class=\"col_heading level1 col0\" >Control</th>        <th class=\"col_heading level1 col1\" >Test</th>        <th class=\"col_heading level1 col2\" >Control</th>        <th class=\"col_heading level1 col3\" >Test</th>        <th class=\"col_heading level1 col4\" >Control</th>        <th class=\"col_heading level1 col5\" >Test</th>        <th class=\"col_heading level1 col6\" >Control</th>        <th class=\"col_heading level1 col7\" >Test</th>    </tr>    <tr>        <th class=\"index_name level0\" >decile</th>        <th class=\"blank\" ></th>        <th class=\"blank\" ></th>        <th class=\"blank\" ></th>        <th class=\"blank\" ></th>        <th class=\"blank\" ></th>        <th class=\"blank\" ></th>        <th class=\"blank\" ></th>        <th class=\"blank\" ></th>    </tr></thead><tbody>\n",
       "                <tr>\n",
       "                        <th id=\"T_b57981c0_59dc_11ec_9cff_0028f8afd2felevel0_row0\" class=\"row_heading level0 row0\" >0</th>\n",
       "                        <td id=\"T_b57981c0_59dc_11ec_9cff_0028f8afd2ferow0_col0\" class=\"data row0 col0\" >0.92</td>\n",
       "                        <td id=\"T_b57981c0_59dc_11ec_9cff_0028f8afd2ferow0_col1\" class=\"data row0 col1\" >0.91</td>\n",
       "                        <td id=\"T_b57981c0_59dc_11ec_9cff_0028f8afd2ferow0_col2\" class=\"data row0 col2\" >0.33</td>\n",
       "                        <td id=\"T_b57981c0_59dc_11ec_9cff_0028f8afd2ferow0_col3\" class=\"data row0 col3\" >0.94</td>\n",
       "                        <td id=\"T_b57981c0_59dc_11ec_9cff_0028f8afd2ferow0_col4\" class=\"data row0 col4\" >1.38</td>\n",
       "                        <td id=\"T_b57981c0_59dc_11ec_9cff_0028f8afd2ferow0_col5\" class=\"data row0 col5\" >1.36</td>\n",
       "                        <td id=\"T_b57981c0_59dc_11ec_9cff_0028f8afd2ferow0_col6\" class=\"data row0 col6\" >33.69</td>\n",
       "                        <td id=\"T_b57981c0_59dc_11ec_9cff_0028f8afd2ferow0_col7\" class=\"data row0 col7\" >34.89</td>\n",
       "            </tr>\n",
       "            <tr>\n",
       "                        <th id=\"T_b57981c0_59dc_11ec_9cff_0028f8afd2felevel0_row1\" class=\"row_heading level0 row1\" >1</th>\n",
       "                        <td id=\"T_b57981c0_59dc_11ec_9cff_0028f8afd2ferow1_col0\" class=\"data row1 col0\" >0.94</td>\n",
       "                        <td id=\"T_b57981c0_59dc_11ec_9cff_0028f8afd2ferow1_col1\" class=\"data row1 col1\" >0.93</td>\n",
       "                        <td id=\"T_b57981c0_59dc_11ec_9cff_0028f8afd2ferow1_col2\" class=\"data row1 col2\" >0.09</td>\n",
       "                        <td id=\"T_b57981c0_59dc_11ec_9cff_0028f8afd2ferow1_col3\" class=\"data row1 col3\" >0.32</td>\n",
       "                        <td id=\"T_b57981c0_59dc_11ec_9cff_0028f8afd2ferow1_col4\" class=\"data row1 col4\" >1.37</td>\n",
       "                        <td id=\"T_b57981c0_59dc_11ec_9cff_0028f8afd2ferow1_col5\" class=\"data row1 col5\" >1.38</td>\n",
       "                        <td id=\"T_b57981c0_59dc_11ec_9cff_0028f8afd2ferow1_col6\" class=\"data row1 col6\" >28.88</td>\n",
       "                        <td id=\"T_b57981c0_59dc_11ec_9cff_0028f8afd2ferow1_col7\" class=\"data row1 col7\" >29.55</td>\n",
       "            </tr>\n",
       "            <tr>\n",
       "                        <th id=\"T_b57981c0_59dc_11ec_9cff_0028f8afd2felevel0_row2\" class=\"row_heading level0 row2\" >2</th>\n",
       "                        <td id=\"T_b57981c0_59dc_11ec_9cff_0028f8afd2ferow2_col0\" class=\"data row2 col0\" >0.94</td>\n",
       "                        <td id=\"T_b57981c0_59dc_11ec_9cff_0028f8afd2ferow2_col1\" class=\"data row2 col1\" >0.93</td>\n",
       "                        <td id=\"T_b57981c0_59dc_11ec_9cff_0028f8afd2ferow2_col2\" class=\"data row2 col2\" >0.13</td>\n",
       "                        <td id=\"T_b57981c0_59dc_11ec_9cff_0028f8afd2ferow2_col3\" class=\"data row2 col3\" >0.39</td>\n",
       "                        <td id=\"T_b57981c0_59dc_11ec_9cff_0028f8afd2ferow2_col4\" class=\"data row2 col4\" >1.23</td>\n",
       "                        <td id=\"T_b57981c0_59dc_11ec_9cff_0028f8afd2ferow2_col5\" class=\"data row2 col5\" >1.29</td>\n",
       "                        <td id=\"T_b57981c0_59dc_11ec_9cff_0028f8afd2ferow2_col6\" class=\"data row2 col6\" >31.02</td>\n",
       "                        <td id=\"T_b57981c0_59dc_11ec_9cff_0028f8afd2ferow2_col7\" class=\"data row2 col7\" >31.00</td>\n",
       "            </tr>\n",
       "            <tr>\n",
       "                        <th id=\"T_b57981c0_59dc_11ec_9cff_0028f8afd2felevel0_row3\" class=\"row_heading level0 row3\" >3</th>\n",
       "                        <td id=\"T_b57981c0_59dc_11ec_9cff_0028f8afd2ferow3_col0\" class=\"data row3 col0\" >0.93</td>\n",
       "                        <td id=\"T_b57981c0_59dc_11ec_9cff_0028f8afd2ferow3_col1\" class=\"data row3 col1\" >0.93</td>\n",
       "                        <td id=\"T_b57981c0_59dc_11ec_9cff_0028f8afd2ferow3_col2\" class=\"data row3 col2\" >0.11</td>\n",
       "                        <td id=\"T_b57981c0_59dc_11ec_9cff_0028f8afd2ferow3_col3\" class=\"data row3 col3\" >0.42</td>\n",
       "                        <td id=\"T_b57981c0_59dc_11ec_9cff_0028f8afd2ferow3_col4\" class=\"data row3 col4\" >1.24</td>\n",
       "                        <td id=\"T_b57981c0_59dc_11ec_9cff_0028f8afd2ferow3_col5\" class=\"data row3 col5\" >1.23</td>\n",
       "                        <td id=\"T_b57981c0_59dc_11ec_9cff_0028f8afd2ferow3_col6\" class=\"data row3 col6\" >31.24</td>\n",
       "                        <td id=\"T_b57981c0_59dc_11ec_9cff_0028f8afd2ferow3_col7\" class=\"data row3 col7\" >31.39</td>\n",
       "            </tr>\n",
       "            <tr>\n",
       "                        <th id=\"T_b57981c0_59dc_11ec_9cff_0028f8afd2felevel0_row4\" class=\"row_heading level0 row4\" >4</th>\n",
       "                        <td id=\"T_b57981c0_59dc_11ec_9cff_0028f8afd2ferow4_col0\" class=\"data row4 col0\" >0.91</td>\n",
       "                        <td id=\"T_b57981c0_59dc_11ec_9cff_0028f8afd2ferow4_col1\" class=\"data row4 col1\" >0.93</td>\n",
       "                        <td id=\"T_b57981c0_59dc_11ec_9cff_0028f8afd2ferow4_col2\" class=\"data row4 col2\" >0.24</td>\n",
       "                        <td id=\"T_b57981c0_59dc_11ec_9cff_0028f8afd2ferow4_col3\" class=\"data row4 col3\" >0.33</td>\n",
       "                        <td id=\"T_b57981c0_59dc_11ec_9cff_0028f8afd2ferow4_col4\" class=\"data row4 col4\" >1.19</td>\n",
       "                        <td id=\"T_b57981c0_59dc_11ec_9cff_0028f8afd2ferow4_col5\" class=\"data row4 col5\" >1.19</td>\n",
       "                        <td id=\"T_b57981c0_59dc_11ec_9cff_0028f8afd2ferow4_col6\" class=\"data row4 col6\" >30.72</td>\n",
       "                        <td id=\"T_b57981c0_59dc_11ec_9cff_0028f8afd2ferow4_col7\" class=\"data row4 col7\" >32.94</td>\n",
       "            </tr>\n",
       "            <tr>\n",
       "                        <th id=\"T_b57981c0_59dc_11ec_9cff_0028f8afd2felevel0_row5\" class=\"row_heading level0 row5\" >5</th>\n",
       "                        <td id=\"T_b57981c0_59dc_11ec_9cff_0028f8afd2ferow5_col0\" class=\"data row5 col0\" >0.92</td>\n",
       "                        <td id=\"T_b57981c0_59dc_11ec_9cff_0028f8afd2ferow5_col1\" class=\"data row5 col1\" >0.94</td>\n",
       "                        <td id=\"T_b57981c0_59dc_11ec_9cff_0028f8afd2ferow5_col2\" class=\"data row5 col2\" >0.26</td>\n",
       "                        <td id=\"T_b57981c0_59dc_11ec_9cff_0028f8afd2ferow5_col3\" class=\"data row5 col3\" >0.57</td>\n",
       "                        <td id=\"T_b57981c0_59dc_11ec_9cff_0028f8afd2ferow5_col4\" class=\"data row5 col4\" >1.15</td>\n",
       "                        <td id=\"T_b57981c0_59dc_11ec_9cff_0028f8afd2ferow5_col5\" class=\"data row5 col5\" >1.15</td>\n",
       "                        <td id=\"T_b57981c0_59dc_11ec_9cff_0028f8afd2ferow5_col6\" class=\"data row5 col6\" >34.18</td>\n",
       "                        <td id=\"T_b57981c0_59dc_11ec_9cff_0028f8afd2ferow5_col7\" class=\"data row5 col7\" >32.32</td>\n",
       "            </tr>\n",
       "            <tr>\n",
       "                        <th id=\"T_b57981c0_59dc_11ec_9cff_0028f8afd2felevel0_row6\" class=\"row_heading level0 row6\" >6</th>\n",
       "                        <td id=\"T_b57981c0_59dc_11ec_9cff_0028f8afd2ferow6_col0\" class=\"data row6 col0\" >0.94</td>\n",
       "                        <td id=\"T_b57981c0_59dc_11ec_9cff_0028f8afd2ferow6_col1\" class=\"data row6 col1\" >0.93</td>\n",
       "                        <td id=\"T_b57981c0_59dc_11ec_9cff_0028f8afd2ferow6_col2\" class=\"data row6 col2\" >0.21</td>\n",
       "                        <td id=\"T_b57981c0_59dc_11ec_9cff_0028f8afd2ferow6_col3\" class=\"data row6 col3\" >0.36</td>\n",
       "                        <td id=\"T_b57981c0_59dc_11ec_9cff_0028f8afd2ferow6_col4\" class=\"data row6 col4\" >1.23</td>\n",
       "                        <td id=\"T_b57981c0_59dc_11ec_9cff_0028f8afd2ferow6_col5\" class=\"data row6 col5\" >1.20</td>\n",
       "                        <td id=\"T_b57981c0_59dc_11ec_9cff_0028f8afd2ferow6_col6\" class=\"data row6 col6\" >33.47</td>\n",
       "                        <td id=\"T_b57981c0_59dc_11ec_9cff_0028f8afd2ferow6_col7\" class=\"data row6 col7\" >34.85</td>\n",
       "            </tr>\n",
       "            <tr>\n",
       "                        <th id=\"T_b57981c0_59dc_11ec_9cff_0028f8afd2felevel0_row7\" class=\"row_heading level0 row7\" >7</th>\n",
       "                        <td id=\"T_b57981c0_59dc_11ec_9cff_0028f8afd2ferow7_col0\" class=\"data row7 col0\" >0.94</td>\n",
       "                        <td id=\"T_b57981c0_59dc_11ec_9cff_0028f8afd2ferow7_col1\" class=\"data row7 col1\" >0.93</td>\n",
       "                        <td id=\"T_b57981c0_59dc_11ec_9cff_0028f8afd2ferow7_col2\" class=\"data row7 col2\" >0.24</td>\n",
       "                        <td id=\"T_b57981c0_59dc_11ec_9cff_0028f8afd2ferow7_col3\" class=\"data row7 col3\" >0.38</td>\n",
       "                        <td id=\"T_b57981c0_59dc_11ec_9cff_0028f8afd2ferow7_col4\" class=\"data row7 col4\" >1.20</td>\n",
       "                        <td id=\"T_b57981c0_59dc_11ec_9cff_0028f8afd2ferow7_col5\" class=\"data row7 col5\" >1.16</td>\n",
       "                        <td id=\"T_b57981c0_59dc_11ec_9cff_0028f8afd2ferow7_col6\" class=\"data row7 col6\" >34.28</td>\n",
       "                        <td id=\"T_b57981c0_59dc_11ec_9cff_0028f8afd2ferow7_col7\" class=\"data row7 col7\" >33.52</td>\n",
       "            </tr>\n",
       "            <tr>\n",
       "                        <th id=\"T_b57981c0_59dc_11ec_9cff_0028f8afd2felevel0_row8\" class=\"row_heading level0 row8\" >8</th>\n",
       "                        <td id=\"T_b57981c0_59dc_11ec_9cff_0028f8afd2ferow8_col0\" class=\"data row8 col0\" >0.94</td>\n",
       "                        <td id=\"T_b57981c0_59dc_11ec_9cff_0028f8afd2ferow8_col1\" class=\"data row8 col1\" >0.94</td>\n",
       "                        <td id=\"T_b57981c0_59dc_11ec_9cff_0028f8afd2ferow8_col2\" class=\"data row8 col2\" >0.15</td>\n",
       "                        <td id=\"T_b57981c0_59dc_11ec_9cff_0028f8afd2ferow8_col3\" class=\"data row8 col3\" >0.33</td>\n",
       "                        <td id=\"T_b57981c0_59dc_11ec_9cff_0028f8afd2ferow8_col4\" class=\"data row8 col4\" >1.24</td>\n",
       "                        <td id=\"T_b57981c0_59dc_11ec_9cff_0028f8afd2ferow8_col5\" class=\"data row8 col5\" >1.26</td>\n",
       "                        <td id=\"T_b57981c0_59dc_11ec_9cff_0028f8afd2ferow8_col6\" class=\"data row8 col6\" >31.89</td>\n",
       "                        <td id=\"T_b57981c0_59dc_11ec_9cff_0028f8afd2ferow8_col7\" class=\"data row8 col7\" >32.68</td>\n",
       "            </tr>\n",
       "            <tr>\n",
       "                        <th id=\"T_b57981c0_59dc_11ec_9cff_0028f8afd2felevel0_row9\" class=\"row_heading level0 row9\" >9</th>\n",
       "                        <td id=\"T_b57981c0_59dc_11ec_9cff_0028f8afd2ferow9_col0\" class=\"data row9 col0\" >0.94</td>\n",
       "                        <td id=\"T_b57981c0_59dc_11ec_9cff_0028f8afd2ferow9_col1\" class=\"data row9 col1\" >0.94</td>\n",
       "                        <td id=\"T_b57981c0_59dc_11ec_9cff_0028f8afd2ferow9_col2\" class=\"data row9 col2\" >0.14</td>\n",
       "                        <td id=\"T_b57981c0_59dc_11ec_9cff_0028f8afd2ferow9_col3\" class=\"data row9 col3\" >0.37</td>\n",
       "                        <td id=\"T_b57981c0_59dc_11ec_9cff_0028f8afd2ferow9_col4\" class=\"data row9 col4\" >1.40</td>\n",
       "                        <td id=\"T_b57981c0_59dc_11ec_9cff_0028f8afd2ferow9_col5\" class=\"data row9 col5\" >1.39</td>\n",
       "                        <td id=\"T_b57981c0_59dc_11ec_9cff_0028f8afd2ferow9_col6\" class=\"data row9 col6\" >33.88</td>\n",
       "                        <td id=\"T_b57981c0_59dc_11ec_9cff_0028f8afd2ferow9_col7\" class=\"data row9 col7\" >33.97</td>\n",
       "            </tr>\n",
       "            <tr>\n",
       "                        <th id=\"T_b57981c0_59dc_11ec_9cff_0028f8afd2felevel0_row10\" class=\"row_heading level0 row10\" >10</th>\n",
       "                        <td id=\"T_b57981c0_59dc_11ec_9cff_0028f8afd2ferow10_col0\" class=\"data row10 col0\" >0.97</td>\n",
       "                        <td id=\"T_b57981c0_59dc_11ec_9cff_0028f8afd2ferow10_col1\" class=\"data row10 col1\" >0.96</td>\n",
       "                        <td id=\"T_b57981c0_59dc_11ec_9cff_0028f8afd2ferow10_col2\" class=\"data row10 col2\" >0.07</td>\n",
       "                        <td id=\"T_b57981c0_59dc_11ec_9cff_0028f8afd2ferow10_col3\" class=\"data row10 col3\" >0.34</td>\n",
       "                        <td id=\"T_b57981c0_59dc_11ec_9cff_0028f8afd2ferow10_col4\" class=\"data row10 col4\" >2.57</td>\n",
       "                        <td id=\"T_b57981c0_59dc_11ec_9cff_0028f8afd2ferow10_col5\" class=\"data row10 col5\" >2.55</td>\n",
       "                        <td id=\"T_b57981c0_59dc_11ec_9cff_0028f8afd2ferow10_col6\" class=\"data row10 col6\" >50.38</td>\n",
       "                        <td id=\"T_b57981c0_59dc_11ec_9cff_0028f8afd2ferow10_col7\" class=\"data row10 col7\" >49.45</td>\n",
       "            </tr>\n",
       "    </tbody></table>"
      ],
      "text/plain": [
       "<pandas.io.formats.style.Styler at 0x17e68d3d940>"
      ]
     },
     "execution_count": 59,
     "metadata": {},
     "output_type": "execute_result"
    }
   ],
   "source": [
    "#pivot data by decile. By renter averages for testing values. Clearer picture of differences between groups\n",
    "\n",
    "df_plus_churn_clean = df_plus_churn[df_plus_churn['test_group'].isin(groups)]\n",
    "\n",
    "df_churn_pivot = df_plus_churn_clean.pivot_table(index='decile', \n",
    "                                                 columns='test_group', \n",
    "                                                 values= ['rental_count', 'converted','total_gross_revenue', 'promocode_spend_amount'],\n",
    "                                                 aggfunc='mean')\n",
    "df_churn_pivot.style.format('{:.2f}')"
   ]
  },
  {
   "cell_type": "code",
   "execution_count": null,
   "metadata": {},
   "outputs": [],
   "source": []
  }
 ],
 "metadata": {
  "kernelspec": {
   "display_name": "Python 3",
   "language": "python",
   "name": "python3"
  },
  "language_info": {
   "codemirror_mode": {
    "name": "ipython",
    "version": 3
   },
   "file_extension": ".py",
   "mimetype": "text/x-python",
   "name": "python",
   "nbconvert_exporter": "python",
   "pygments_lexer": "ipython3",
   "version": "3.7.0"
  }
 },
 "nbformat": 4,
 "nbformat_minor": 2
}
