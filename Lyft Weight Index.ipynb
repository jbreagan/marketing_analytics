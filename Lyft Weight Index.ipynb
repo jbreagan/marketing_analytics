{
 "cells": [
  {
   "cell_type": "code",
   "execution_count": 1,
   "metadata": {},
   "outputs": [],
   "source": [
    "import pandas as pd\n",
    "import numpy as np\n",
    "import matplotlib.pyplot as plt\n",
    "import seaborn as sns\n",
    "%matplotlib inline\n",
    "plt.style.use('fivethirtyeight')\n",
    "\n",
    "\n",
    "df = pd.read_csv('lyft_weight.csv')"
   ]
  },
  {
   "cell_type": "code",
   "execution_count": 2,
   "metadata": {},
   "outputs": [
    {
     "name": "stdout",
     "output_type": "stream",
     "text": [
      "     top_20_markets          segment              tag_c  case_mean  case_std\n",
      "0           Atlanta          Airport  Booked By Mistake   3.000000  2.954196\n",
      "1           Atlanta          Airport  Booked by Mistake   1.000000  0.000000\n",
      "2           Atlanta          Airport            Booking   6.428571  6.559952\n",
      "3           Atlanta          Airport                CCR   1.000000  0.000000\n",
      "4           Atlanta          Airport       CCR Feedback   1.000000  0.000000\n",
      "...             ...              ...                ...        ...       ...\n",
      "3396     Washington  Other Transient     Update Profile   1.000000  0.000000\n",
      "3397     Washington  Other Transient     Vehicle Damage   1.000000  0.000000\n",
      "3398     Washington  Other Transient    Vehicle Details   1.469388  1.002124\n",
      "3399     Washington  Other Transient     Wasn't Present   2.000000  1.745743\n",
      "3400     Washington  Other Transient       Wrong Number   1.000000  0.000000\n",
      "\n",
      "[3401 rows x 5 columns]\n"
     ]
    }
   ],
   "source": [
    "df_aggs = df.groupby(['top_20_markets', 'segment', 'tag_c'], as_index=False).agg({'case_count':['mean','std']})\n",
    "df_aggs.columns = ['top_20_markets', 'segment','tag_c', 'case_mean', 'case_std']\n",
    "df_aggs.reindex(columns=sorted(df_aggs.columns))\n",
    "df_aggs['case_std'] = df_aggs['case_std'].fillna(0)\n",
    "print(df_aggs)"
   ]
  },
  {
   "cell_type": "code",
   "execution_count": 72,
   "metadata": {},
   "outputs": [
    {
     "name": "stdout",
     "output_type": "stream",
     "text": [
      "            operator_name  parking_spot_id                tag_c  \\\n",
      "0                     SP+            14764      Equipment Error   \n",
      "1                     ABM            10329      Vehicle Details   \n",
      "2             LAZ Parking             5018             Lot Full   \n",
      "3   Millennium Park Plaza             5956           Redemption   \n",
      "4                     SP+             6008           Redemption   \n",
      "..                    ...              ...                  ...   \n",
      "95              InterPark             2180   Change Date / Time   \n",
      "96            LAZ Parking              620             Lot Full   \n",
      "97         Legacy Parking            14429      Equipment Error   \n",
      "98          REEF - Impark            17976             Lot Full   \n",
      "99         Legacy Parking             8861  Outside Reservation   \n",
      "\n",
      "           tag_category top_20_markets          segment  case_count  \\\n",
      "0              Facility        Chicago  Other Transient         193   \n",
      "1   Reservation Actions        Chicago            Event         185   \n",
      "2              Facility        Chicago  Other Transient         172   \n",
      "3            User Error        Chicago  Other Transient         167   \n",
      "4            User Error        Chicago  Other Transient         166   \n",
      "..                  ...            ...              ...         ...   \n",
      "95  Reservation Actions        Chicago  Other Transient          63   \n",
      "96             Facility        Chicago  Other Transient          63   \n",
      "97             Facility        Chicago  Other Transient          63   \n",
      "98             Facility       New York  Other Transient          63   \n",
      "99           User Error        Chicago  Other Transient          62   \n",
      "\n",
      "    case_outlier case_two_stdevs  duplicates  market_two_stdevs  \\\n",
      "0           True            True       False               True   \n",
      "1           True            True       False               True   \n",
      "2           True            True       False               True   \n",
      "3           True            True       False               True   \n",
      "4           True            True       False               True   \n",
      "..           ...             ...         ...                ...   \n",
      "95          True            True        True               True   \n",
      "96          True            True       False               True   \n",
      "97          True           False        True               True   \n",
      "98          True            True       False               True   \n",
      "99          True            True        True               True   \n",
      "\n",
      "    market_outlier  segment_two_stdevs  segment_outlier  filter_index  \n",
      "0             True                True             True             1  \n",
      "1             True                True             True             1  \n",
      "2             True                True             True             1  \n",
      "3             True                True             True             1  \n",
      "4             True                True             True             1  \n",
      "..             ...                 ...              ...           ...  \n",
      "95            True                True             True             1  \n",
      "96            True                True             True             1  \n",
      "97            True                True             True             1  \n",
      "98            True                True             True             1  \n",
      "99            True                True             True             1  \n",
      "\n",
      "[100 rows x 15 columns]\n"
     ]
    }
   ],
   "source": [
    "def is_upper_outlier(x):\n",
    "    IQR = np.percentile(x, 75) - np.percentile(x, 25)\n",
    "    upper_fence = np.percentile(x, 75) + (IQR * 1)\n",
    "    return (x > upper_fence)\n",
    "df['case_outlier'] = df.groupby(['top_20_markets','segment','tag_c'])['case_count'].apply(is_upper_outlier)\n",
    "\n",
    "print(df.head(100))"
   ]
  },
  {
   "cell_type": "code",
   "execution_count": 4,
   "metadata": {},
   "outputs": [
    {
     "name": "stdout",
     "output_type": "stream",
     "text": [
      "            operator_name  parking_spot_id                tag_c  \\\n",
      "0                     SP+            14764      Equipment Error   \n",
      "1                     ABM            10329      Vehicle Details   \n",
      "2             LAZ Parking             5018             Lot Full   \n",
      "3   Millennium Park Plaza             5956           Redemption   \n",
      "4                     SP+             6008           Redemption   \n",
      "..                    ...              ...                  ...   \n",
      "95              InterPark             2180   Change Date / Time   \n",
      "96            LAZ Parking              620             Lot Full   \n",
      "97         Legacy Parking            14429      Equipment Error   \n",
      "98          REEF - Impark            17976             Lot Full   \n",
      "99         Legacy Parking             8861  Outside Reservation   \n",
      "\n",
      "           tag_category top_20_markets          segment  case_count  \\\n",
      "0              Facility        Chicago  Other Transient         193   \n",
      "1   Reservation Actions        Chicago            Event         185   \n",
      "2              Facility        Chicago  Other Transient         172   \n",
      "3            User Error        Chicago  Other Transient         167   \n",
      "4            User Error        Chicago  Other Transient         166   \n",
      "..                  ...            ...              ...         ...   \n",
      "95  Reservation Actions        Chicago  Other Transient          63   \n",
      "96             Facility        Chicago  Other Transient          63   \n",
      "97             Facility        Chicago  Other Transient          63   \n",
      "98             Facility       New York  Other Transient          63   \n",
      "99           User Error        Chicago  Other Transient          62   \n",
      "\n",
      "   case_outlier case_two_stdevs  \n",
      "0          True            True  \n",
      "1          True            True  \n",
      "2          True            True  \n",
      "3          True            True  \n",
      "4          True            True  \n",
      "..          ...             ...  \n",
      "95         True            True  \n",
      "96         True            True  \n",
      "97         True           False  \n",
      "98         True            True  \n",
      "99         True            True  \n",
      "\n",
      "[100 rows x 9 columns]\n"
     ]
    }
   ],
   "source": [
    "def two_stdevs(x):\n",
    "    upper_limit = np.mean(x) + (np.std(x) * 2)\n",
    "    return x > upper_limit\n",
    "df['case_two_stdevs'] = df.groupby(['top_20_markets','segment','tag_c'])['case_count'].apply(two_stdevs)\n",
    "print(df.head(100))"
   ]
  },
  {
   "cell_type": "code",
   "execution_count": 5,
   "metadata": {},
   "outputs": [
    {
     "name": "stdout",
     "output_type": "stream",
     "text": [
      "operator_name                  SP+\n",
      "parking_spot_id              12729\n",
      "tag_c              Equipment Error\n",
      "tag_category              Facility\n",
      "top_20_markets             Chicago\n",
      "segment            Other Transient\n",
      "case_count                      62\n",
      "case_outlier                 False\n",
      "case_two_stdevs              False\n",
      "Name: 100, dtype: object\n"
     ]
    }
   ],
   "source": [
    "print(df[df['case_outlier'] == False].iloc[0])"
   ]
  },
  {
   "cell_type": "code",
   "execution_count": 6,
   "metadata": {},
   "outputs": [
    {
     "name": "stdout",
     "output_type": "stream",
     "text": [
      "            operator_name  parking_spot_id                tag_c  \\\n",
      "0                     SP+            14764      Equipment Error   \n",
      "1                     ABM            10329      Vehicle Details   \n",
      "2             LAZ Parking             5018             Lot Full   \n",
      "3   Millennium Park Plaza             5956           Redemption   \n",
      "4                     SP+             6008           Redemption   \n",
      "..                    ...              ...                  ...   \n",
      "95              InterPark             2180   Change Date / Time   \n",
      "96            LAZ Parking              620             Lot Full   \n",
      "97         Legacy Parking            14429      Equipment Error   \n",
      "98          REEF - Impark            17976             Lot Full   \n",
      "99         Legacy Parking             8861  Outside Reservation   \n",
      "\n",
      "           tag_category top_20_markets          segment  case_count  \\\n",
      "0              Facility        Chicago  Other Transient         193   \n",
      "1   Reservation Actions        Chicago            Event         185   \n",
      "2              Facility        Chicago  Other Transient         172   \n",
      "3            User Error        Chicago  Other Transient         167   \n",
      "4            User Error        Chicago  Other Transient         166   \n",
      "..                  ...            ...              ...         ...   \n",
      "95  Reservation Actions        Chicago  Other Transient          63   \n",
      "96             Facility        Chicago  Other Transient          63   \n",
      "97             Facility        Chicago  Other Transient          63   \n",
      "98             Facility       New York  Other Transient          63   \n",
      "99           User Error        Chicago  Other Transient          62   \n",
      "\n",
      "   case_outlier case_two_stdevs  duplicates  \n",
      "0          True            True       False  \n",
      "1          True            True       False  \n",
      "2          True            True       False  \n",
      "3          True            True       False  \n",
      "4          True            True       False  \n",
      "..          ...             ...         ...  \n",
      "95         True            True        True  \n",
      "96         True            True       False  \n",
      "97         True           False        True  \n",
      "98         True            True       False  \n",
      "99         True            True        True  \n",
      "\n",
      "[100 rows x 10 columns]\n"
     ]
    }
   ],
   "source": [
    "df['duplicates'] = df.duplicated(subset=['parking_spot_id'],keep='first')\n",
    "print(df.head(100))"
   ]
  },
  {
   "cell_type": "code",
   "execution_count": 7,
   "metadata": {},
   "outputs": [
    {
     "data": {
      "text/plain": [
       "True     66338\n",
       "False     6109\n",
       "Name: duplicates, dtype: int64"
      ]
     },
     "execution_count": 7,
     "metadata": {},
     "output_type": "execute_result"
    }
   ],
   "source": [
    "df['duplicates'].value_counts()"
   ]
  },
  {
   "cell_type": "code",
   "execution_count": 8,
   "metadata": {},
   "outputs": [
    {
     "data": {
      "text/plain": [
       "False    5272\n",
       "True      815\n",
       "Name: case_two_stdevs, dtype: int64"
      ]
     },
     "execution_count": 8,
     "metadata": {},
     "output_type": "execute_result"
    }
   ],
   "source": [
    "df[df['duplicates'] == False]['case_two_stdevs'].value_counts()"
   ]
  },
  {
   "cell_type": "code",
   "execution_count": 9,
   "metadata": {},
   "outputs": [
    {
     "data": {
      "text/plain": [
       "False    4786\n",
       "True     1301\n",
       "Name: case_outlier, dtype: int64"
      ]
     },
     "execution_count": 9,
     "metadata": {},
     "output_type": "execute_result"
    }
   ],
   "source": [
    "df[df['duplicates'] == False]['case_outlier'].value_counts()"
   ]
  },
  {
   "cell_type": "code",
   "execution_count": 10,
   "metadata": {},
   "outputs": [
    {
     "name": "stdout",
     "output_type": "stream",
     "text": [
      "False    4982\n",
      "True     1127\n",
      "Name: market_two_stdevs, dtype: int64\n",
      "False    3673\n",
      "True     2436\n",
      "Name: market_outlier, dtype: int64\n"
     ]
    }
   ],
   "source": [
    "df['market_two_stdevs'] = df.groupby(['top_20_markets','segment'])['case_count'].apply(two_stdevs)\n",
    "df['market_outlier'] = df.groupby(['top_20_markets','segment'])['case_count'].apply(is_upper_outlier)\n",
    "print(df[df['duplicates'] == False]['market_two_stdevs'].value_counts())\n",
    "print(df[df['duplicates'] == False]['market_outlier'].value_counts())"
   ]
  },
  {
   "cell_type": "code",
   "execution_count": 11,
   "metadata": {},
   "outputs": [
    {
     "name": "stdout",
     "output_type": "stream",
     "text": [
      "False    5151\n",
      "True      958\n",
      "Name: segment_two_stdevs, dtype: int64\n",
      "False    3884\n",
      "True     2225\n",
      "Name: segment_outlier, dtype: int64\n"
     ]
    }
   ],
   "source": [
    "df['segment_two_stdevs'] = df.groupby(['segment'])['case_count'].apply(two_stdevs)\n",
    "df['segment_outlier'] = df.groupby(['segment'])['case_count'].apply(is_upper_outlier)\n",
    "print(df[df['duplicates'] == False]['segment_two_stdevs'].value_counts())\n",
    "print(df[df['duplicates'] == False]['segment_outlier'].value_counts())"
   ]
  },
  {
   "cell_type": "code",
   "execution_count": 12,
   "metadata": {},
   "outputs": [],
   "source": [
    "df.to_csv('lyft_weight_filters.csv',index=False)"
   ]
  },
  {
   "cell_type": "code",
   "execution_count": 13,
   "metadata": {},
   "outputs": [],
   "source": [
    "num_quantiles = 10\n",
    "df_case_quantiles = df.groupby(['top_20_markets', 'segment','tag_c'])[['case_count']].quantile([i * (1.0 / num_quantiles) for i in range(num_quantiles)])\n",
    "df_case_quantiles.index = df_case_quantiles.index.set_names(['top_20_markets','segment','tag_c','quantile'])\n",
    "df_case_quantiles = df_case_quantiles.reset_index()"
   ]
  },
  {
   "cell_type": "code",
   "execution_count": 14,
   "metadata": {},
   "outputs": [
    {
     "name": "stdout",
     "output_type": "stream",
     "text": [
      "  top_20_markets  segment              tag_c  quantile  case_count\n",
      "0        Atlanta  Airport  Booked By Mistake       0.0         1.0\n",
      "1        Atlanta  Airport  Booked By Mistake       0.1         1.0\n",
      "2        Atlanta  Airport  Booked By Mistake       0.2         1.0\n",
      "3        Atlanta  Airport  Booked By Mistake       0.3         1.0\n",
      "4        Atlanta  Airport  Booked By Mistake       0.4         1.4\n"
     ]
    }
   ],
   "source": [
    "print(df_case_quantiles.head())"
   ]
  },
  {
   "cell_type": "code",
   "execution_count": 15,
   "metadata": {},
   "outputs": [
    {
     "name": "stdout",
     "output_type": "stream",
     "text": [
      "    top_20_markets  segment              tag_c  quantile  case_count\n",
      "9          Atlanta  Airport  Booked By Mistake       0.9         5.8\n",
      "19         Atlanta  Airport  Booked by Mistake       0.9         1.0\n",
      "29         Atlanta  Airport            Booking       0.9        15.3\n",
      "39         Atlanta  Airport                CCR       0.9         1.0\n",
      "49         Atlanta  Airport       CCR Feedback       0.9         1.0\n",
      "..             ...      ...                ...       ...         ...\n",
      "959        Atlanta    Event         Unfamiliar       0.9         1.0\n",
      "969        Atlanta    Event     Update Profile       0.9         1.0\n",
      "979        Atlanta    Event     Vehicle Damage       0.9         1.0\n",
      "989        Atlanta    Event    Vehicle Details       0.9         4.0\n",
      "999        Atlanta    Event     Wasn't Present       0.9         2.2\n",
      "\n",
      "[100 rows x 5 columns]\n"
     ]
    }
   ],
   "source": [
    "df_case_quantiles_tenth = df_case_quantiles[df_case_quantiles['quantile'] == 0.9]\n",
    "print(df_case_quantiles_tenth.head(100))"
   ]
  },
  {
   "cell_type": "code",
   "execution_count": 16,
   "metadata": {},
   "outputs": [],
   "source": [
    "df_case_quantiles_tenth.to_csv('tenth_decile_by_case.csv',index=False)"
   ]
  },
  {
   "cell_type": "code",
   "execution_count": 18,
   "metadata": {},
   "outputs": [
    {
     "name": "stdout",
     "output_type": "stream",
     "text": [
      "   parking_spot_id          segment  case_count  rental_count       cpp\n",
      "0              166  Other Transient          34         958.0  0.035491\n",
      "1              289         Commuter          13         521.0  0.024952\n",
      "2              289  Other Transient          12         690.0  0.017391\n",
      "3              305            Event          11          67.0  0.164179\n",
      "4              311  Other Transient           1           NaN       NaN\n"
     ]
    }
   ],
   "source": [
    "df_propor = pd.read_csv('segment_case_proportions.csv')\n",
    "print(df_propor.head())"
   ]
  },
  {
   "cell_type": "code",
   "execution_count": 21,
   "metadata": {},
   "outputs": [
    {
     "name": "stdout",
     "output_type": "stream",
     "text": [
      "   parking_spot_id          segment  case_count  rental_count       cpp\n",
      "0              166  Other Transient          34         958.0  0.035491\n",
      "1              289         Commuter          13         521.0  0.024952\n",
      "2              289  Other Transient          12         690.0  0.017391\n",
      "3              305            Event          11          67.0  0.164179\n",
      "4              311  Other Transient           1           0.0  0.000000\n"
     ]
    }
   ],
   "source": [
    "df_propor = df_propor.fillna(0)\n",
    "print(df_propor.head())"
   ]
  },
  {
   "cell_type": "code",
   "execution_count": 24,
   "metadata": {},
   "outputs": [
    {
     "name": "stdout",
     "output_type": "stream",
     "text": [
      "False    5966\n",
      "True      181\n",
      "Name: segment_two_stdevs, dtype: int64\n",
      "False    5557\n",
      "True      590\n",
      "Name: segment_outlier, dtype: int64\n"
     ]
    }
   ],
   "source": [
    "df_propor = df_propor.sort_values(by='rental_count', ascending=False)\n",
    "df_propor['duplicates'] = df_propor.duplicated(subset=['parking_spot_id'],keep='first')\n",
    "df_propor['segment_two_stdevs'] = df_propor.groupby(['segment'])['cpp'].apply(two_stdevs)\n",
    "df_propor['segment_outlier'] = df_propor.groupby(['segment'])['cpp'].apply(is_upper_outlier)\n",
    "print(df_propor[df_propor['duplicates'] == False]['segment_two_stdevs'].value_counts())\n",
    "print(df_propor[df_propor['duplicates'] == False]['segment_outlier'].value_counts())"
   ]
  },
  {
   "cell_type": "code",
   "execution_count": 26,
   "metadata": {},
   "outputs": [],
   "source": [
    "df_propor.to_csv('segment_case_proportion_filters.csv',index=False)"
   ]
  },
  {
   "cell_type": "code",
   "execution_count": 27,
   "metadata": {},
   "outputs": [
    {
     "name": "stdout",
     "output_type": "stream",
     "text": [
      "132900\n",
      "0.3346250319169708\n",
      "3167544.0\n",
      "0.31076398710803854\n"
     ]
    }
   ],
   "source": [
    "total_cases = 199737\n",
    "total_rentals = 4595732\n",
    "\n",
    "cases_remaining = df_propor[df_propor['duplicates'] == False]['case_count'].sum()\n",
    "cases_removed = 1-(cases_remaining / total_cases)\n",
    "\n",
    "rentals_remaining = df_propor[df_propor['duplicates'] == False]['rental_count'].sum()\n",
    "rentals_removed = 1-(rentals_remaining / total_rentals)\n",
    "\n",
    "print(cases_remaining)\n",
    "print(cases_removed)\n",
    "print(rentals_remaining)\n",
    "print(rentals_removed)"
   ]
  },
  {
   "cell_type": "code",
   "execution_count": 29,
   "metadata": {},
   "outputs": [
    {
     "name": "stdout",
     "output_type": "stream",
     "text": [
      "False    12209\n",
      "Name: two_stdevs, dtype: int64\n",
      "False    12209\n",
      "Name: outlier, dtype: int64\n"
     ]
    }
   ],
   "source": [
    "df_propor['two_stdevs'] = df_propor['cpp'].apply(two_stdevs)\n",
    "df_propor['outlier'] = df_propor['cpp'].apply(is_upper_outlier)\n",
    "print(df_propor['two_stdevs'].value_counts())\n",
    "print(df_propor['outlier'].value_counts())"
   ]
  },
  {
   "cell_type": "code",
   "execution_count": 73,
   "metadata": {},
   "outputs": [
    {
     "name": "stdout",
     "output_type": "stream",
     "text": [
      "segment\n",
      "Airport            0.253545\n",
      "Commuter           0.206349\n",
      "Event              0.400392\n",
      "Monthly            1.788968\n",
      "Other Transient    0.203194\n",
      "Name: cpp, dtype: float64\n"
     ]
    }
   ],
   "source": [
    "def upper_fence_actual(x):\n",
    "    IQR = np.percentile(x, 75) - np.percentile(x, 25)\n",
    "    return np.percentile(x, 75) + (IQR * 1)\n",
    "#df_propor['upper_fence_actual'] = df_propor.groupby(['segment'])['cpp'].apply(upper_fence_actual)\n",
    "print(df_propor.groupby(['segment'])['cpp'].apply(upper_fence_actual))"
   ]
  },
  {
   "cell_type": "code",
   "execution_count": 84,
   "metadata": {},
   "outputs": [
    {
     "name": "stdout",
     "output_type": "stream",
     "text": [
      "Series([], Name: dupes, dtype: int64)\n"
     ]
    }
   ],
   "source": [
    "final_index = df_propor[df_propor['duplicates'] == False]\n",
    "final_index = final_index[final_index['outlier'] == False]\n",
    "final_index = final_index[['parking_spot_id']].set_index('parking_spot_id')\n",
    "final_index['dupes'] = final_index.duplicated(subset=['parking_spot_id'],keep='first')\n",
    "print(final_index['dupes'].value_counts())"
   ]
  },
  {
   "cell_type": "code",
   "execution_count": 56,
   "metadata": {},
   "outputs": [
    {
     "name": "stdout",
     "output_type": "stream",
     "text": [
      "               operator_name  parking_spot_id              tag_c  \\\n",
      "0                        SP+            14764    Equipment Error   \n",
      "1                        ABM            10329    Vehicle Details   \n",
      "2                LAZ Parking             5018           Lot Full   \n",
      "3      Millennium Park Plaza             5956         Redemption   \n",
      "4                        SP+             6008         Redemption   \n",
      "...                      ...              ...                ...   \n",
      "72442              InterPark             9246  Booked By Mistake   \n",
      "72443            LAZ Parking             9752     Wasn't Present   \n",
      "72444           City Parking            13380    Dropped Contact   \n",
      "72445                    SP+             7527         Redemption   \n",
      "72446                    ABM             1323           Feedback   \n",
      "\n",
      "              tag_category top_20_markets          segment  case_count  \\\n",
      "0                 Facility        Chicago  Other Transient         193   \n",
      "1      Reservation Actions        Chicago            Event         185   \n",
      "2                 Facility        Chicago  Other Transient         172   \n",
      "3               User Error        Chicago  Other Transient         167   \n",
      "4               User Error        Chicago  Other Transient         166   \n",
      "...                    ...            ...              ...         ...   \n",
      "72442           User Error     Washington         Commuter           1   \n",
      "72443            Attendant      San Diego            Event           1   \n",
      "72444                Other       New York            Event           1   \n",
      "72445           User Error       New York         Commuter           1   \n",
      "72446                Other       New York         Commuter           1   \n",
      "\n",
      "      case_outlier case_two_stdevs  duplicates  market_two_stdevs  \\\n",
      "0             True            True       False               True   \n",
      "1             True            True       False               True   \n",
      "2             True            True       False               True   \n",
      "3             True            True       False               True   \n",
      "4             True            True       False               True   \n",
      "...            ...             ...         ...                ...   \n",
      "72442        False           False        True              False   \n",
      "72443        False           False        True              False   \n",
      "72444        False           False        True              False   \n",
      "72445        False           False        True              False   \n",
      "72446        False           False        True              False   \n",
      "\n",
      "       market_outlier  segment_two_stdevs  segment_outlier  \n",
      "0                True                True             True  \n",
      "1                True                True             True  \n",
      "2                True                True             True  \n",
      "3                True                True             True  \n",
      "4                True                True             True  \n",
      "...               ...                 ...              ...  \n",
      "72442           False               False            False  \n",
      "72443           False               False            False  \n",
      "72444           False               False            False  \n",
      "72445           False               False            False  \n",
      "72446           False               False            False  \n",
      "\n",
      "[72447 rows x 14 columns]\n"
     ]
    }
   ],
   "source": [
    "print(df)"
   ]
  },
  {
   "cell_type": "code",
   "execution_count": 58,
   "metadata": {},
   "outputs": [
    {
     "name": "stdout",
     "output_type": "stream",
     "text": [
      "               operator_name  parking_spot_id              tag_c  \\\n",
      "0                        SP+            14764    Equipment Error   \n",
      "1                        ABM            10329    Vehicle Details   \n",
      "2                LAZ Parking             5018           Lot Full   \n",
      "3      Millennium Park Plaza             5956         Redemption   \n",
      "4                        SP+             6008         Redemption   \n",
      "...                      ...              ...                ...   \n",
      "72442              InterPark             9246  Booked By Mistake   \n",
      "72443            LAZ Parking             9752     Wasn't Present   \n",
      "72444           City Parking            13380    Dropped Contact   \n",
      "72445                    SP+             7527         Redemption   \n",
      "72446                    ABM             1323           Feedback   \n",
      "\n",
      "              tag_category top_20_markets          segment  case_count  \\\n",
      "0                 Facility        Chicago  Other Transient         193   \n",
      "1      Reservation Actions        Chicago            Event         185   \n",
      "2                 Facility        Chicago  Other Transient         172   \n",
      "3               User Error        Chicago  Other Transient         167   \n",
      "4               User Error        Chicago  Other Transient         166   \n",
      "...                    ...            ...              ...         ...   \n",
      "72442           User Error     Washington         Commuter           1   \n",
      "72443            Attendant      San Diego            Event           1   \n",
      "72444                Other       New York            Event           1   \n",
      "72445           User Error       New York         Commuter           1   \n",
      "72446                Other       New York         Commuter           1   \n",
      "\n",
      "      case_outlier case_two_stdevs  duplicates  market_two_stdevs  \\\n",
      "0             True            True       False               True   \n",
      "1             True            True       False               True   \n",
      "2             True            True       False               True   \n",
      "3             True            True       False               True   \n",
      "4             True            True       False               True   \n",
      "...            ...             ...         ...                ...   \n",
      "72442        False           False        True              False   \n",
      "72443        False           False        True              False   \n",
      "72444        False           False        True              False   \n",
      "72445        False           False        True              False   \n",
      "72446        False           False        True              False   \n",
      "\n",
      "       market_outlier  segment_two_stdevs  segment_outlier  filter_index  \n",
      "0                True                True             True             1  \n",
      "1                True                True             True             1  \n",
      "2                True                True             True             1  \n",
      "3                True                True             True             1  \n",
      "4                True                True             True             1  \n",
      "...               ...                 ...              ...           ...  \n",
      "72442           False               False            False             1  \n",
      "72443           False               False            False             0  \n",
      "72444           False               False            False             1  \n",
      "72445           False               False            False             1  \n",
      "72446           False               False            False             1  \n",
      "\n",
      "[72447 rows x 15 columns]\n"
     ]
    }
   ],
   "source": [
    "df = df.assign(filter_index=df['parking_spot_id'].isin(final_index['parking_spot_id']).astype(int))\n",
    "print(df)"
   ]
  },
  {
   "cell_type": "code",
   "execution_count": 59,
   "metadata": {},
   "outputs": [
    {
     "data": {
      "text/plain": [
       "196429"
      ]
     },
     "execution_count": 59,
     "metadata": {},
     "output_type": "execute_result"
    }
   ],
   "source": [
    "df[df['filter_index'] == 1]['case_count'].sum()"
   ]
  },
  {
   "cell_type": "code",
   "execution_count": 61,
   "metadata": {},
   "outputs": [
    {
     "name": "stdout",
     "output_type": "stream",
     "text": [
      "<class 'pandas.core.frame.DataFrame'>\n",
      "RangeIndex: 12209 entries, 0 to 12208\n",
      "Data columns (total 5 columns):\n",
      " #   Column           Non-Null Count  Dtype  \n",
      "---  ------           --------------  -----  \n",
      " 0   parking_spot_id  12209 non-null  int64  \n",
      " 1   segment          12209 non-null  object \n",
      " 2   case_count       12209 non-null  int64  \n",
      " 3   rental_count     12156 non-null  float64\n",
      " 4   cpp              11818 non-null  float64\n",
      "dtypes: float64(2), int64(2), object(1)\n",
      "memory usage: 477.0+ KB\n",
      "None\n"
     ]
    }
   ],
   "source": [
    "test = pd.read_csv('segment_case_proportions.csv')\n",
    "print(test.info())"
   ]
  },
  {
   "cell_type": "code",
   "execution_count": 62,
   "metadata": {},
   "outputs": [
    {
     "name": "stdout",
     "output_type": "stream",
     "text": [
      "<class 'pandas.core.frame.DataFrame'>\n",
      "Int64Index: 11818 entries, 0 to 12208\n",
      "Data columns (total 5 columns):\n",
      " #   Column           Non-Null Count  Dtype  \n",
      "---  ------           --------------  -----  \n",
      " 0   parking_spot_id  11818 non-null  int64  \n",
      " 1   segment          11818 non-null  object \n",
      " 2   case_count       11818 non-null  int64  \n",
      " 3   rental_count     11818 non-null  float64\n",
      " 4   cpp              11818 non-null  float64\n",
      "dtypes: float64(2), int64(2), object(1)\n",
      "memory usage: 554.0+ KB\n",
      "None\n"
     ]
    }
   ],
   "source": [
    "test = test.dropna()\n",
    "print(test.info())"
   ]
  },
  {
   "cell_type": "code",
   "execution_count": 63,
   "metadata": {},
   "outputs": [
    {
     "ename": "KeyError",
     "evalue": "'duplicates'",
     "output_type": "error",
     "traceback": [
      "\u001b[1;31m---------------------------------------------------------------------------\u001b[0m",
      "\u001b[1;31mKeyError\u001b[0m                                  Traceback (most recent call last)",
      "\u001b[1;32m~\\Anaconda3\\lib\\site-packages\\pandas\\core\\indexes\\base.py\u001b[0m in \u001b[0;36mget_loc\u001b[1;34m(self, key, method, tolerance)\u001b[0m\n\u001b[0;32m   2897\u001b[0m             \u001b[1;32mtry\u001b[0m\u001b[1;33m:\u001b[0m\u001b[1;33m\u001b[0m\u001b[0m\n\u001b[1;32m-> 2898\u001b[1;33m                 \u001b[1;32mreturn\u001b[0m \u001b[0mself\u001b[0m\u001b[1;33m.\u001b[0m\u001b[0m_engine\u001b[0m\u001b[1;33m.\u001b[0m\u001b[0mget_loc\u001b[0m\u001b[1;33m(\u001b[0m\u001b[0mcasted_key\u001b[0m\u001b[1;33m)\u001b[0m\u001b[1;33m\u001b[0m\u001b[0m\n\u001b[0m\u001b[0;32m   2899\u001b[0m             \u001b[1;32mexcept\u001b[0m \u001b[0mKeyError\u001b[0m \u001b[1;32mas\u001b[0m \u001b[0merr\u001b[0m\u001b[1;33m:\u001b[0m\u001b[1;33m\u001b[0m\u001b[0m\n",
      "\u001b[1;32mpandas\\_libs\\index.pyx\u001b[0m in \u001b[0;36mpandas._libs.index.IndexEngine.get_loc\u001b[1;34m()\u001b[0m\n",
      "\u001b[1;32mpandas\\_libs\\index.pyx\u001b[0m in \u001b[0;36mpandas._libs.index.IndexEngine.get_loc\u001b[1;34m()\u001b[0m\n",
      "\u001b[1;32mpandas\\_libs\\hashtable_class_helper.pxi\u001b[0m in \u001b[0;36mpandas._libs.hashtable.PyObjectHashTable.get_item\u001b[1;34m()\u001b[0m\n",
      "\u001b[1;32mpandas\\_libs\\hashtable_class_helper.pxi\u001b[0m in \u001b[0;36mpandas._libs.hashtable.PyObjectHashTable.get_item\u001b[1;34m()\u001b[0m\n",
      "\u001b[1;31mKeyError\u001b[0m: 'duplicates'",
      "\nThe above exception was the direct cause of the following exception:\n",
      "\u001b[1;31mKeyError\u001b[0m                                  Traceback (most recent call last)",
      "\u001b[1;32m<ipython-input-63-c20bba72a14a>\u001b[0m in \u001b[0;36m<module>\u001b[1;34m()\u001b[0m\n\u001b[0;32m      3\u001b[0m \u001b[0mtest\u001b[0m\u001b[1;33m[\u001b[0m\u001b[1;34m'segment_two_stdevs'\u001b[0m\u001b[1;33m]\u001b[0m \u001b[1;33m=\u001b[0m \u001b[0mtest\u001b[0m\u001b[1;33m.\u001b[0m\u001b[0mgroupby\u001b[0m\u001b[1;33m(\u001b[0m\u001b[1;33m[\u001b[0m\u001b[1;34m'segment'\u001b[0m\u001b[1;33m]\u001b[0m\u001b[1;33m)\u001b[0m\u001b[1;33m[\u001b[0m\u001b[1;34m'cpp'\u001b[0m\u001b[1;33m]\u001b[0m\u001b[1;33m.\u001b[0m\u001b[0mapply\u001b[0m\u001b[1;33m(\u001b[0m\u001b[0mtwo_stdevs\u001b[0m\u001b[1;33m)\u001b[0m\u001b[1;33m\u001b[0m\u001b[0m\n\u001b[0;32m      4\u001b[0m \u001b[0mtest\u001b[0m\u001b[1;33m[\u001b[0m\u001b[1;34m'segment_outlier'\u001b[0m\u001b[1;33m]\u001b[0m \u001b[1;33m=\u001b[0m \u001b[0mtest\u001b[0m\u001b[1;33m.\u001b[0m\u001b[0mgroupby\u001b[0m\u001b[1;33m(\u001b[0m\u001b[1;33m[\u001b[0m\u001b[1;34m'segment'\u001b[0m\u001b[1;33m]\u001b[0m\u001b[1;33m)\u001b[0m\u001b[1;33m[\u001b[0m\u001b[1;34m'cpp'\u001b[0m\u001b[1;33m]\u001b[0m\u001b[1;33m.\u001b[0m\u001b[0mapply\u001b[0m\u001b[1;33m(\u001b[0m\u001b[0mis_upper_outlier\u001b[0m\u001b[1;33m)\u001b[0m\u001b[1;33m\u001b[0m\u001b[0m\n\u001b[1;32m----> 5\u001b[1;33m \u001b[0mprint\u001b[0m\u001b[1;33m(\u001b[0m\u001b[0mtest\u001b[0m\u001b[1;33m[\u001b[0m\u001b[0mtest\u001b[0m\u001b[1;33m[\u001b[0m\u001b[1;34m'duplicates'\u001b[0m\u001b[1;33m]\u001b[0m \u001b[1;33m==\u001b[0m \u001b[1;32mFalse\u001b[0m\u001b[1;33m]\u001b[0m\u001b[1;33m[\u001b[0m\u001b[1;34m'segment_two_stdevs'\u001b[0m\u001b[1;33m]\u001b[0m\u001b[1;33m.\u001b[0m\u001b[0mvalue_counts\u001b[0m\u001b[1;33m(\u001b[0m\u001b[1;33m)\u001b[0m\u001b[1;33m)\u001b[0m\u001b[1;33m\u001b[0m\u001b[0m\n\u001b[0m\u001b[0;32m      6\u001b[0m \u001b[0mprint\u001b[0m\u001b[1;33m(\u001b[0m\u001b[0mtest\u001b[0m\u001b[1;33m[\u001b[0m\u001b[0mtest\u001b[0m\u001b[1;33m[\u001b[0m\u001b[1;34m'duplicates'\u001b[0m\u001b[1;33m]\u001b[0m \u001b[1;33m==\u001b[0m \u001b[1;32mFalse\u001b[0m\u001b[1;33m]\u001b[0m\u001b[1;33m[\u001b[0m\u001b[1;34m'segment_outlier'\u001b[0m\u001b[1;33m]\u001b[0m\u001b[1;33m.\u001b[0m\u001b[0mvalue_counts\u001b[0m\u001b[1;33m(\u001b[0m\u001b[1;33m)\u001b[0m\u001b[1;33m)\u001b[0m\u001b[1;33m\u001b[0m\u001b[0m\n",
      "\u001b[1;32m~\\Anaconda3\\lib\\site-packages\\pandas\\core\\frame.py\u001b[0m in \u001b[0;36m__getitem__\u001b[1;34m(self, key)\u001b[0m\n\u001b[0;32m   2904\u001b[0m             \u001b[1;32mif\u001b[0m \u001b[0mself\u001b[0m\u001b[1;33m.\u001b[0m\u001b[0mcolumns\u001b[0m\u001b[1;33m.\u001b[0m\u001b[0mnlevels\u001b[0m \u001b[1;33m>\u001b[0m \u001b[1;36m1\u001b[0m\u001b[1;33m:\u001b[0m\u001b[1;33m\u001b[0m\u001b[0m\n\u001b[0;32m   2905\u001b[0m                 \u001b[1;32mreturn\u001b[0m \u001b[0mself\u001b[0m\u001b[1;33m.\u001b[0m\u001b[0m_getitem_multilevel\u001b[0m\u001b[1;33m(\u001b[0m\u001b[0mkey\u001b[0m\u001b[1;33m)\u001b[0m\u001b[1;33m\u001b[0m\u001b[0m\n\u001b[1;32m-> 2906\u001b[1;33m             \u001b[0mindexer\u001b[0m \u001b[1;33m=\u001b[0m \u001b[0mself\u001b[0m\u001b[1;33m.\u001b[0m\u001b[0mcolumns\u001b[0m\u001b[1;33m.\u001b[0m\u001b[0mget_loc\u001b[0m\u001b[1;33m(\u001b[0m\u001b[0mkey\u001b[0m\u001b[1;33m)\u001b[0m\u001b[1;33m\u001b[0m\u001b[0m\n\u001b[0m\u001b[0;32m   2907\u001b[0m             \u001b[1;32mif\u001b[0m \u001b[0mis_integer\u001b[0m\u001b[1;33m(\u001b[0m\u001b[0mindexer\u001b[0m\u001b[1;33m)\u001b[0m\u001b[1;33m:\u001b[0m\u001b[1;33m\u001b[0m\u001b[0m\n\u001b[0;32m   2908\u001b[0m                 \u001b[0mindexer\u001b[0m \u001b[1;33m=\u001b[0m \u001b[1;33m[\u001b[0m\u001b[0mindexer\u001b[0m\u001b[1;33m]\u001b[0m\u001b[1;33m\u001b[0m\u001b[0m\n",
      "\u001b[1;32m~\\Anaconda3\\lib\\site-packages\\pandas\\core\\indexes\\base.py\u001b[0m in \u001b[0;36mget_loc\u001b[1;34m(self, key, method, tolerance)\u001b[0m\n\u001b[0;32m   2898\u001b[0m                 \u001b[1;32mreturn\u001b[0m \u001b[0mself\u001b[0m\u001b[1;33m.\u001b[0m\u001b[0m_engine\u001b[0m\u001b[1;33m.\u001b[0m\u001b[0mget_loc\u001b[0m\u001b[1;33m(\u001b[0m\u001b[0mcasted_key\u001b[0m\u001b[1;33m)\u001b[0m\u001b[1;33m\u001b[0m\u001b[0m\n\u001b[0;32m   2899\u001b[0m             \u001b[1;32mexcept\u001b[0m \u001b[0mKeyError\u001b[0m \u001b[1;32mas\u001b[0m \u001b[0merr\u001b[0m\u001b[1;33m:\u001b[0m\u001b[1;33m\u001b[0m\u001b[0m\n\u001b[1;32m-> 2900\u001b[1;33m                 \u001b[1;32mraise\u001b[0m \u001b[0mKeyError\u001b[0m\u001b[1;33m(\u001b[0m\u001b[0mkey\u001b[0m\u001b[1;33m)\u001b[0m \u001b[1;32mfrom\u001b[0m \u001b[0merr\u001b[0m\u001b[1;33m\u001b[0m\u001b[0m\n\u001b[0m\u001b[0;32m   2901\u001b[0m \u001b[1;33m\u001b[0m\u001b[0m\n\u001b[0;32m   2902\u001b[0m         \u001b[1;32mif\u001b[0m \u001b[0mtolerance\u001b[0m \u001b[1;32mis\u001b[0m \u001b[1;32mnot\u001b[0m \u001b[1;32mNone\u001b[0m\u001b[1;33m:\u001b[0m\u001b[1;33m\u001b[0m\u001b[0m\n",
      "\u001b[1;31mKeyError\u001b[0m: 'duplicates'"
     ]
    }
   ],
   "source": [
    "test = test.sort_values(by='rental_count', ascending=False)\n",
    "df_propor['duplicates'] = df_propor.duplicated(subset=['parking_spot_id'],keep='first')\n",
    "test['segment_two_stdevs'] = test.groupby(['segment'])['cpp'].apply(two_stdevs)\n",
    "test['segment_outlier'] = test.groupby(['segment'])['cpp'].apply(is_upper_outlier)\n",
    "print(test[test['duplicates'] == False]['segment_two_stdevs'].value_counts())\n",
    "print(test[test['duplicates'] == False]['segment_outlier'].value_counts())"
   ]
  },
  {
   "cell_type": "code",
   "execution_count": 74,
   "metadata": {},
   "outputs": [
    {
     "name": "stdout",
     "output_type": "stream",
     "text": [
      "0.944578014008246\n",
      "0.9950462967930217\n"
     ]
    }
   ],
   "source": [
    "facility_propor = pd.read_csv('facility_case_proportions.csv')\n",
    "sum_cases = facility_propor['case_count'].sum()\n",
    "sum_rentals = facility_propor['rental_count'].sum()\n",
    "facility_propor = facility_propor.dropna()\n",
    "avg_cpp = facility_propor['cpp'].mean()\n",
    "facility_propor['two_stdevs'] = two_stdevs(facility_propor['cpp'])\n",
    "facility_propor['outlier'] = is_upper_outlier(facility_propor['cpp'])\n",
    "filter_cases = facility_propor[facility_propor['outlier'] == False]['case_count'].sum()\n",
    "filter_rentals = facility_propor[facility_propor['outlier'] == False]['rental_count'].sum()\n",
    "\n",
    "print(filter_cases / sum_cases)\n",
    "print(filter_rentals / sum_rentals)"
   ]
  },
  {
   "cell_type": "code",
   "execution_count": 75,
   "metadata": {},
   "outputs": [
    {
     "name": "stdout",
     "output_type": "stream",
     "text": [
      "0.2614732641866278\n"
     ]
    }
   ],
   "source": [
    "print(upper_fence_actual(facility_propor['cpp']))"
   ]
  },
  {
   "cell_type": "code",
   "execution_count": 76,
   "metadata": {},
   "outputs": [],
   "source": [
    "facility_propor_filtered = facility_propor[facility_propor['outlier'] == False]\n",
    "df = df.assign(filter_index2=df['parking_spot_id'].isin(facility_propor_filtered['parking_spot_id']).astype(int))\n",
    "df.to_csv('total_facility_filter.csv')"
   ]
  },
  {
   "cell_type": "code",
   "execution_count": 78,
   "metadata": {},
   "outputs": [],
   "source": [
    "df_propor = df_propor.assign(filter_index=df_propor['parking_spot_id'].isin(facility_propor_filtered['parking_spot_id']).astype(int))\n",
    "df_propor.to_csv('segment_case_proportion_filters2.csv',index=False)"
   ]
  },
  {
   "cell_type": "code",
   "execution_count": null,
   "metadata": {},
   "outputs": [],
   "source": []
  }
 ],
 "metadata": {
  "kernelspec": {
   "display_name": "Python 3",
   "language": "python",
   "name": "python3"
  },
  "language_info": {
   "codemirror_mode": {
    "name": "ipython",
    "version": 3
   },
   "file_extension": ".py",
   "mimetype": "text/x-python",
   "name": "python",
   "nbconvert_exporter": "python",
   "pygments_lexer": "ipython3",
   "version": "3.7.0"
  }
 },
 "nbformat": 4,
 "nbformat_minor": 2
}
