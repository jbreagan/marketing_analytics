{
 "cells": [
  {
   "cell_type": "code",
   "execution_count": 68,
   "metadata": {},
   "outputs": [
    {
     "name": "stdout",
     "output_type": "stream",
     "text": [
      "<class 'pandas.core.frame.DataFrame'>\n",
      "RangeIndex: 65573 entries, 0 to 65572\n",
      "Data columns (total 11 columns):\n",
      " #   Column               Non-Null Count  Dtype         \n",
      "---  ------               --------------  -----         \n",
      " 0   exit                 65573 non-null  object        \n",
      " 1   id                   65573 non-null  object        \n",
      " 2   user_id              64916 non-null  float64       \n",
      " 3   tag                  65111 non-null  object        \n",
      " 4   tag_category         65118 non-null  object        \n",
      " 5   csat                 10338 non-null  float64       \n",
      " 6   csat_returned        65573 non-null  int64         \n",
      " 7   step_start_date      65573 non-null  datetime64[ns]\n",
      " 8   latest_rental_date   63335 non-null  datetime64[ns]\n",
      " 9   rental_created_date  64858 non-null  datetime64[ns]\n",
      " 10  hold_time            65573 non-null  float64       \n",
      "dtypes: datetime64[ns](3), float64(3), int64(1), object(4)\n",
      "memory usage: 5.5+ MB\n",
      "None\n",
      "<class 'pandas.core.frame.DataFrame'>\n",
      "RangeIndex: 65573 entries, 0 to 65572\n",
      "Data columns (total 11 columns):\n",
      " #   Column               Non-Null Count  Dtype         \n",
      "---  ------               --------------  -----         \n",
      " 0   exit                 65573 non-null  object        \n",
      " 1   id                   65573 non-null  object        \n",
      " 2   user_id              64916 non-null  float64       \n",
      " 3   tag                  65111 non-null  object        \n",
      " 4   tag_category         65118 non-null  object        \n",
      " 5   csat                 10338 non-null  float64       \n",
      " 6   csat_returned        65573 non-null  int64         \n",
      " 7   step_start_date      65573 non-null  datetime64[ns]\n",
      " 8   latest_rental_date   63335 non-null  datetime64[ns]\n",
      " 9   rental_created_date  64858 non-null  datetime64[ns]\n",
      " 10  hold_time            65573 non-null  float64       \n",
      "dtypes: datetime64[ns](3), float64(3), int64(1), object(4)\n",
      "memory usage: 5.5+ MB\n",
      "None\n"
     ]
    }
   ],
   "source": [
    "import pandas as pd\n",
    "import matplotlib.pyplot as plt\n",
    "import seaborn as sns\n",
    "\n",
    "date_cols = ['step_start_date','latest_rental_date','rental_created_date']\n",
    "\n",
    "df = pd.read_csv('ivr_prioritization_7_8_21.csv')\n",
    "df_retention = pd.read_csv('ivr_prioritization_7_8_21.csv')\n",
    "for col in date_cols:\n",
    "    df[col] = pd.to_datetime(df[col],errors='ignore')\n",
    "    df_retention[col] = pd.to_datetime(df_retention[col],errors='ignore')\n",
    "\n",
    "print(df.info())\n",
    "print(df_retention.info())\n"
   ]
  },
  {
   "cell_type": "code",
   "execution_count": 69,
   "metadata": {},
   "outputs": [
    {
     "name": "stdout",
     "output_type": "stream",
     "text": [
      "0\n",
      "<class 'pandas.core.frame.DataFrame'>\n",
      "Int64Index: 21186 entries, 0 to 65572\n",
      "Data columns (total 11 columns):\n",
      " #   Column               Non-Null Count  Dtype         \n",
      "---  ------               --------------  -----         \n",
      " 0   exit                 21186 non-null  object        \n",
      " 1   id                   21186 non-null  object        \n",
      " 2   user_id              20537 non-null  float64       \n",
      " 3   tag                  20999 non-null  object        \n",
      " 4   tag_category         21003 non-null  object        \n",
      " 5   csat                 3623 non-null   float64       \n",
      " 6   csat_returned        21186 non-null  int64         \n",
      " 7   step_start_date      21186 non-null  datetime64[ns]\n",
      " 8   latest_rental_date   19076 non-null  datetime64[ns]\n",
      " 9   rental_created_date  20479 non-null  datetime64[ns]\n",
      " 10  hold_time            21186 non-null  float64       \n",
      "dtypes: datetime64[ns](3), float64(3), int64(1), object(4)\n",
      "memory usage: 1.9+ MB\n",
      "None\n"
     ]
    }
   ],
   "source": [
    "df = df.drop_duplicates(subset='id',keep='first')\n",
    "print(df.duplicated(subset='id').sum())\n",
    "print(df.info())"
   ]
  },
  {
   "cell_type": "code",
   "execution_count": 70,
   "metadata": {},
   "outputs": [
    {
     "name": "stdout",
     "output_type": "stream",
     "text": [
      "exit               csat_returned\n",
      "no-match           0                13880\n",
      "                   1                 2809\n",
      "power_user_no_vip  0                 1915\n",
      "                   1                  337\n",
      "power_user_vip     0                 1768\n",
      "                   1                  477\n",
      "Name: csat_returned, dtype: int64\n"
     ]
    }
   ],
   "source": [
    "print(df.groupby('exit')['csat_returned'].value_counts())"
   ]
  },
  {
   "cell_type": "code",
   "execution_count": 71,
   "metadata": {},
   "outputs": [
    {
     "data": {
      "text/plain": [
       "0"
      ]
     },
     "execution_count": 71,
     "metadata": {},
     "output_type": "execute_result"
    }
   ],
   "source": [
    "df['user_id'] = df['user_id'].fillna(0)\n",
    "df['user_id'].isnull().sum()"
   ]
  },
  {
   "cell_type": "code",
   "execution_count": 72,
   "metadata": {},
   "outputs": [
    {
     "data": {
      "text/plain": [
       "exit                       0\n",
       "id                         0\n",
       "user_id                    0\n",
       "tag                      187\n",
       "tag_category             183\n",
       "csat                   17563\n",
       "csat_returned              0\n",
       "step_start_date            0\n",
       "latest_rental_date      2110\n",
       "rental_created_date      707\n",
       "hold_time                  0\n",
       "dtype: int64"
      ]
     },
     "execution_count": 72,
     "metadata": {},
     "output_type": "execute_result"
    }
   ],
   "source": [
    "df.isnull().sum()"
   ]
  },
  {
   "cell_type": "code",
   "execution_count": 73,
   "metadata": {},
   "outputs": [
    {
     "name": "stdout",
     "output_type": "stream",
     "text": [
      "               exit                  id  user_id               tag  \\\n",
      "177        no-match  5003o00001TfhouAAB      0.0            Credit   \n",
      "323        no-match  5003o00001SgUDdAAN      0.0        Promo Code   \n",
      "435  power_user_vip  5003o00001TfcPaAAJ      0.0  Operator Contact   \n",
      "489        no-match  5003o00001TgKFtAAN      0.0           Booking   \n",
      "551        no-match  5003o00001SiAkcAAF      0.0   General Billing   \n",
      "\n",
      "           tag_category  csat  csat_returned step_start_date  \\\n",
      "177  Customer Questions   5.0              1      2021-06-30   \n",
      "323  Customer Questions   5.0              1      2021-05-29   \n",
      "435              Supply   1.0              1      2021-06-29   \n",
      "489  Customer Questions   5.0              1      2021-07-08   \n",
      "551             Billing   1.0              1      2021-06-21   \n",
      "\n",
      "    latest_rental_date rental_created_date   hold_time  \n",
      "177                NaT                 NaT  437.286002  \n",
      "323                NaT                 NaT    0.000000  \n",
      "435                NaT                 NaT  149.717349  \n",
      "489                NaT                 NaT  934.103863  \n",
      "551                NaT                 NaT    5.499223  \n"
     ]
    }
   ],
   "source": [
    "csat_returned = df[df['csat_returned']==1]\n",
    "print(csat_returned.head())"
   ]
  },
  {
   "cell_type": "code",
   "execution_count": 8,
   "metadata": {},
   "outputs": [
    {
     "data": {
      "text/plain": [
       "(3623, 11)"
      ]
     },
     "execution_count": 8,
     "metadata": {},
     "output_type": "execute_result"
    }
   ],
   "source": [
    "csat_returned.shape"
   ]
  },
  {
   "cell_type": "code",
   "execution_count": 9,
   "metadata": {},
   "outputs": [
    {
     "data": {
      "text/plain": [
       "F_onewayResult(statistic=18.738231594025844, pvalue=8.015400914003312e-09)"
      ]
     },
     "execution_count": 9,
     "metadata": {},
     "output_type": "execute_result"
    }
   ],
   "source": [
    "import scipy.stats as stats\n",
    "\n",
    "stats.f_oneway(csat_returned['csat'][csat_returned['exit'] == 'no-match'],\n",
    "               csat_returned['csat'][csat_returned['exit'] == 'power_user_vip'],\n",
    "               csat_returned['csat'][csat_returned['exit'] == 'power_user_no_vip'])"
   ]
  },
  {
   "cell_type": "code",
   "execution_count": 10,
   "metadata": {},
   "outputs": [
    {
     "name": "stderr",
     "output_type": "stream",
     "text": [
      "C:\\Users\\Jimmy Reagan\\Anaconda3\\lib\\site-packages\\statsmodels\\compat\\pandas.py:49: FutureWarning: The Panel class is removed from pandas. Accessing it from the top-level namespace will also be removed in the next version\n",
      "  data_klasses = (pandas.Series, pandas.DataFrame, pandas.Panel)\n"
     ]
    },
    {
     "data": {
      "text/html": [
       "<div>\n",
       "<style scoped>\n",
       "    .dataframe tbody tr th:only-of-type {\n",
       "        vertical-align: middle;\n",
       "    }\n",
       "\n",
       "    .dataframe tbody tr th {\n",
       "        vertical-align: top;\n",
       "    }\n",
       "\n",
       "    .dataframe thead th {\n",
       "        text-align: right;\n",
       "    }\n",
       "</style>\n",
       "<table border=\"1\" class=\"dataframe\">\n",
       "  <thead>\n",
       "    <tr style=\"text-align: right;\">\n",
       "      <th></th>\n",
       "      <th>sum_sq</th>\n",
       "      <th>df</th>\n",
       "      <th>F</th>\n",
       "      <th>PR(&gt;F)</th>\n",
       "    </tr>\n",
       "  </thead>\n",
       "  <tbody>\n",
       "    <tr>\n",
       "      <th>C(exit)</th>\n",
       "      <td>60.84549</td>\n",
       "      <td>2.0</td>\n",
       "      <td>18.738232</td>\n",
       "      <td>8.015401e-09</td>\n",
       "    </tr>\n",
       "    <tr>\n",
       "      <th>Residual</th>\n",
       "      <td>5877.30687</td>\n",
       "      <td>3620.0</td>\n",
       "      <td>NaN</td>\n",
       "      <td>NaN</td>\n",
       "    </tr>\n",
       "  </tbody>\n",
       "</table>\n",
       "</div>"
      ],
      "text/plain": [
       "              sum_sq      df          F        PR(>F)\n",
       "C(exit)     60.84549     2.0  18.738232  8.015401e-09\n",
       "Residual  5877.30687  3620.0        NaN           NaN"
      ]
     },
     "execution_count": 10,
     "metadata": {},
     "output_type": "execute_result"
    }
   ],
   "source": [
    "import statsmodels.api as sm\n",
    "from statsmodels.formula.api import ols\n",
    "\n",
    "model1 = ols('csat ~ C(exit)', data=csat_returned).fit()\n",
    "aov_table = sm.stats.anova_lm(model1, typ=2)\n",
    "aov_table"
   ]
  },
  {
   "cell_type": "code",
   "execution_count": 11,
   "metadata": {},
   "outputs": [
    {
     "data": {
      "text/plain": [
       "(0.5439094305038452, 0.0)"
      ]
     },
     "execution_count": 11,
     "metadata": {},
     "output_type": "execute_result"
    }
   ],
   "source": [
    "stats.shapiro(model1.resid)"
   ]
  },
  {
   "cell_type": "code",
   "execution_count": 12,
   "metadata": {},
   "outputs": [
    {
     "data": {
      "text/plain": [
       "LeveneResult(statistic=18.738231594025848, pvalue=8.015400914003312e-09)"
      ]
     },
     "execution_count": 12,
     "metadata": {},
     "output_type": "execute_result"
    }
   ],
   "source": [
    "stats.levene(csat_returned['csat'][csat_returned['exit'] == 'no-match'],\n",
    "               csat_returned['csat'][csat_returned['exit'] == 'power_user_vip'],\n",
    "               csat_returned['csat'][csat_returned['exit'] == 'power_user_no_vip'])"
   ]
  },
  {
   "cell_type": "code",
   "execution_count": 13,
   "metadata": {},
   "outputs": [
    {
     "data": {
      "text/html": [
       "<table class=\"simpletable\">\n",
       "<caption>Multiple Comparison of Means - Tukey HSD,FWER=0.05</caption>\n",
       "<tr>\n",
       "       <th>group1</th>            <th>group2</th>       <th>meandiff</th>  <th>lower</th>   <th>upper</th> <th>reject</th>\n",
       "</tr>\n",
       "<tr>\n",
       "      <td>no-match</td>      <td>power_user_no_vip</td>  <td>-0.1321</td> <td>-0.3044</td> <td>0.0401</td>  <td>False</td>\n",
       "</tr>\n",
       "<tr>\n",
       "      <td>no-match</td>       <td>power_user_vip</td>    <td>0.3522</td>  <td>0.2043</td>  <td>0.5002</td>  <td>True</td> \n",
       "</tr>\n",
       "<tr>\n",
       "  <td>power_user_no_vip</td>  <td>power_user_vip</td>    <td>0.4843</td>  <td>0.2717</td>  <td>0.6969</td>  <td>True</td> \n",
       "</tr>\n",
       "</table>"
      ],
      "text/plain": [
       "<class 'statsmodels.iolib.table.SimpleTable'>"
      ]
     },
     "execution_count": 13,
     "metadata": {},
     "output_type": "execute_result"
    }
   ],
   "source": [
    "\n"
   ]
  },
  {
   "cell_type": "code",
   "execution_count": 14,
   "metadata": {},
   "outputs": [
    {
     "data": {
      "text/html": [
       "<table class=\"simpletable\">\n",
       "<caption>Test Multiple Comparison ttest_ind \n",
       "FWER=0.05 method=bonf\n",
       "alphacSidak=0.02, alphacBonf=0.017</caption>\n",
       "<tr>\n",
       "       <th>group1</th>            <th>group2</th>        <th>stat</th>    <th>pval</th>  <th>pval_corr</th> <th>reject</th>\n",
       "</tr>\n",
       "<tr>\n",
       "      <td>no-match</td>      <td>power_user_no_vip</td> <td>1.7295</td>  <td>0.0838</td>  <td>0.2514</td>    <td>False</td>\n",
       "</tr>\n",
       "<tr>\n",
       "      <td>no-match</td>       <td>power_user_vip</td>   <td>-5.6651</td>   <td>0.0</td>     <td>0.0</td>     <td>True</td> \n",
       "</tr>\n",
       "<tr>\n",
       "  <td>power_user_no_vip</td>  <td>power_user_vip</td>   <td>-5.9646</td>   <td>0.0</td>     <td>0.0</td>     <td>True</td> \n",
       "</tr>\n",
       "</table>"
      ],
      "text/plain": [
       "<class 'statsmodels.iolib.table.SimpleTable'>"
      ]
     },
     "execution_count": 14,
     "metadata": {},
     "output_type": "execute_result"
    }
   ],
   "source": [
    "comp2 = mc.MultiComparison(csat_returned['csat'], csat_returned['exit'])\n",
    "tbl1, a1, a2 = comp2.allpairtest(stats.ttest_ind, method= \"bonf\")\n",
    "\n",
    "tbl1"
   ]
  },
  {
   "cell_type": "code",
   "execution_count": 15,
   "metadata": {},
   "outputs": [
    {
     "data": {
      "text/html": [
       "<table class=\"simpletable\">\n",
       "<caption>Test Multiple Comparison ttest_ind \n",
       "FWER=0.05 method=sidak\n",
       "alphacSidak=0.02, alphacBonf=0.017</caption>\n",
       "<tr>\n",
       "       <th>group1</th>            <th>group2</th>        <th>stat</th>    <th>pval</th>  <th>pval_corr</th> <th>reject</th>\n",
       "</tr>\n",
       "<tr>\n",
       "      <td>no-match</td>      <td>power_user_no_vip</td> <td>1.7295</td>  <td>0.0838</td>  <td>0.2309</td>    <td>False</td>\n",
       "</tr>\n",
       "<tr>\n",
       "      <td>no-match</td>       <td>power_user_vip</td>   <td>-5.6651</td>   <td>0.0</td>     <td>0.0</td>     <td>True</td> \n",
       "</tr>\n",
       "<tr>\n",
       "  <td>power_user_no_vip</td>  <td>power_user_vip</td>   <td>-5.9646</td>   <td>0.0</td>     <td>0.0</td>     <td>True</td> \n",
       "</tr>\n",
       "</table>"
      ],
      "text/plain": [
       "<class 'statsmodels.iolib.table.SimpleTable'>"
      ]
     },
     "execution_count": 15,
     "metadata": {},
     "output_type": "execute_result"
    }
   ],
   "source": [
    "comp3 = mc.MultiComparison(csat_returned['csat'], csat_returned['exit'])\n",
    "tbl2, a3, a4 = comp3.allpairtest(stats.ttest_ind, method= \"sidak\")\n",
    "\n",
    "tbl2"
   ]
  },
  {
   "cell_type": "code",
   "execution_count": 16,
   "metadata": {},
   "outputs": [
    {
     "name": "stdout",
     "output_type": "stream",
     "text": [
      "0.5439094305038452 0.0\n"
     ]
    }
   ],
   "source": [
    "w, pvalue = stats.shapiro(model1.resid)\n",
    "print(w, pvalue)"
   ]
  },
  {
   "cell_type": "code",
   "execution_count": 17,
   "metadata": {},
   "outputs": [
    {
     "ename": "ModuleNotFoundError",
     "evalue": "No module named 'bioinfokit'",
     "output_type": "error",
     "traceback": [
      "\u001b[1;31m---------------------------------------------------------------------------\u001b[0m",
      "\u001b[1;31mModuleNotFoundError\u001b[0m                       Traceback (most recent call last)",
      "\u001b[1;32m<ipython-input-17-bcdb8466a21d>\u001b[0m in \u001b[0;36m<module>\u001b[1;34m()\u001b[0m\n\u001b[1;32m----> 1\u001b[1;33m \u001b[1;32mfrom\u001b[0m \u001b[0mbioinfokit\u001b[0m\u001b[1;33m.\u001b[0m\u001b[0manalys\u001b[0m \u001b[1;32mimport\u001b[0m \u001b[0mstat\u001b[0m\u001b[1;33m\u001b[0m\u001b[0m\n\u001b[0m\u001b[0;32m      2\u001b[0m \u001b[0mres\u001b[0m \u001b[1;33m=\u001b[0m \u001b[0mstat\u001b[0m\u001b[1;33m(\u001b[0m\u001b[1;33m)\u001b[0m\u001b[1;33m\u001b[0m\u001b[0m\n\u001b[0;32m      3\u001b[0m \u001b[0mres\u001b[0m\u001b[1;33m.\u001b[0m\u001b[0mlevene\u001b[0m\u001b[1;33m(\u001b[0m\u001b[0mdf\u001b[0m\u001b[1;33m=\u001b[0m\u001b[0mcsat_returned\u001b[0m\u001b[1;33m,\u001b[0m \u001b[0mres_var\u001b[0m\u001b[1;33m=\u001b[0m\u001b[1;34m'csat'\u001b[0m\u001b[1;33m,\u001b[0m \u001b[0mxfac_var\u001b[0m\u001b[1;33m=\u001b[0m\u001b[1;34m'exit'\u001b[0m\u001b[1;33m)\u001b[0m\u001b[1;33m\u001b[0m\u001b[0m\n\u001b[0;32m      4\u001b[0m \u001b[0mres\u001b[0m\u001b[1;33m.\u001b[0m\u001b[0mlevene_summary\u001b[0m\u001b[1;33m\u001b[0m\u001b[0m\n",
      "\u001b[1;31mModuleNotFoundError\u001b[0m: No module named 'bioinfokit'"
     ]
    }
   ],
   "source": [
    "from bioinfokit.analys import stat \n",
    "res = stat()\n",
    "res.levene(df=csat_returned, res_var='csat', xfac_var='exit')\n",
    "res.levene_summary"
   ]
  },
  {
   "cell_type": "code",
   "execution_count": 18,
   "metadata": {},
   "outputs": [
    {
     "data": {
      "text/plain": [
       "F_onewayResult(statistic=17.69230215284222, pvalue=2.1025249599805373e-08)"
      ]
     },
     "execution_count": 18,
     "metadata": {},
     "output_type": "execute_result"
    }
   ],
   "source": [
    "stats.f_oneway(df['csat_returned'][df['exit'] == 'no-match'],\n",
    "               df['csat_returned'][df['exit'] == 'power_user_vip'],\n",
    "               df['csat_returned'][df['exit'] == 'power_user_no_vip'])"
   ]
  },
  {
   "cell_type": "code",
   "execution_count": 19,
   "metadata": {},
   "outputs": [
    {
     "data": {
      "text/html": [
       "<table class=\"simpletable\">\n",
       "<caption>Multiple Comparison of Means - Tukey HSD,FWER=0.05</caption>\n",
       "<tr>\n",
       "       <th>group1</th>            <th>group2</th>       <th>meandiff</th>  <th>lower</th>   <th>upper</th> <th>reject</th>\n",
       "</tr>\n",
       "<tr>\n",
       "      <td>no-match</td>      <td>power_user_no_vip</td>  <td>-0.0187</td> <td>-0.0385</td> <td>0.0011</td>  <td>False</td>\n",
       "</tr>\n",
       "<tr>\n",
       "      <td>no-match</td>       <td>power_user_vip</td>    <td>0.0442</td>  <td>0.0243</td>   <td>0.064</td>  <td>True</td> \n",
       "</tr>\n",
       "<tr>\n",
       "  <td>power_user_no_vip</td>  <td>power_user_vip</td>    <td>0.0628</td>  <td>0.0365</td>  <td>0.0891</td>  <td>True</td> \n",
       "</tr>\n",
       "</table>"
      ],
      "text/plain": [
       "<class 'statsmodels.iolib.table.SimpleTable'>"
      ]
     },
     "execution_count": 19,
     "metadata": {},
     "output_type": "execute_result"
    }
   ],
   "source": [
    "comp4 = mc.MultiComparison(df['csat_returned'], df['exit'])\n",
    "post_hoc_res2 = comp4.tukeyhsd()\n",
    "post_hoc_res2.summary()"
   ]
  },
  {
   "cell_type": "code",
   "execution_count": 20,
   "metadata": {},
   "outputs": [
    {
     "data": {
      "text/html": [
       "<table class=\"simpletable\">\n",
       "<caption>Test Multiple Comparison ttest_ind \n",
       "FWER=0.05 method=bonf\n",
       "alphacSidak=0.02, alphacBonf=0.017</caption>\n",
       "<tr>\n",
       "       <th>group1</th>            <th>group2</th>        <th>stat</th>    <th>pval</th>  <th>pval_corr</th> <th>reject</th>\n",
       "</tr>\n",
       "<tr>\n",
       "      <td>no-match</td>      <td>power_user_no_vip</td> <td>2.2348</td>  <td>0.0254</td>  <td>0.0763</td>    <td>False</td>\n",
       "</tr>\n",
       "<tr>\n",
       "      <td>no-match</td>       <td>power_user_vip</td>   <td>-5.1901</td>   <td>0.0</td>     <td>0.0</td>     <td>True</td> \n",
       "</tr>\n",
       "<tr>\n",
       "  <td>power_user_no_vip</td>  <td>power_user_vip</td>   <td>-5.4884</td>   <td>0.0</td>     <td>0.0</td>     <td>True</td> \n",
       "</tr>\n",
       "</table>"
      ],
      "text/plain": [
       "<class 'statsmodels.iolib.table.SimpleTable'>"
      ]
     },
     "execution_count": 20,
     "metadata": {},
     "output_type": "execute_result"
    }
   ],
   "source": [
    "comp5 = mc.MultiComparison(df['csat_returned'], df['exit'])\n",
    "tbl3, a5, a6 = comp5.allpairtest(stats.ttest_ind, method= \"bonf\")\n",
    "\n",
    "tbl3"
   ]
  },
  {
   "cell_type": "code",
   "execution_count": 21,
   "metadata": {},
   "outputs": [
    {
     "name": "stdout",
     "output_type": "stream",
     "text": [
      "Facility ANOVA\n",
      "        Multiple Comparison of Means - Tukey HSD,FWER=0.05        \n",
      "==================================================================\n",
      "      group1            group2      meandiff  lower  upper  reject\n",
      "------------------------------------------------------------------\n",
      "     no-match     power_user_no_vip  0.217   -0.1129 0.5469 False \n",
      "     no-match       power_user_vip   0.7388   0.4776 0.9999  True \n",
      "power_user_no_vip   power_user_vip   0.5217   0.1392 0.9043  True \n",
      "------------------------------------------------------------------\n",
      "Customer Questions ANOVA\n",
      "        Multiple Comparison of Means - Tukey HSD,FWER=0.05        \n",
      "==================================================================\n",
      "      group1            group2      meandiff  lower  upper  reject\n",
      "------------------------------------------------------------------\n",
      "     no-match     power_user_no_vip -0.3682  -0.7903 0.0538 False \n",
      "     no-match       power_user_vip  -0.2496  -0.6802 0.181  False \n",
      "power_user_no_vip   power_user_vip   0.1187  -0.4609 0.6983 False \n",
      "------------------------------------------------------------------\n",
      "User Error ANOVA\n",
      "        Multiple Comparison of Means - Tukey HSD,FWER=0.05       \n",
      "=================================================================\n",
      "      group1            group2      meandiff lower  upper  reject\n",
      "-----------------------------------------------------------------\n",
      "     no-match     power_user_no_vip  -0.346  -0.634 -0.058  True \n",
      "     no-match       power_user_vip   0.256   0.0218 0.4902  True \n",
      "power_user_no_vip   power_user_vip   0.6021  0.2579 0.9462  True \n",
      "-----------------------------------------------------------------\n",
      "Reservation Actions ANOVA\n",
      "        Multiple Comparison of Means - Tukey HSD,FWER=0.05        \n",
      "==================================================================\n",
      "      group1            group2      meandiff  lower  upper  reject\n",
      "------------------------------------------------------------------\n",
      "     no-match     power_user_no_vip -0.1636  -0.5993 0.272  False \n",
      "     no-match       power_user_vip   0.0333  -0.5425 0.6092 False \n",
      "power_user_no_vip   power_user_vip   0.197   -0.4973 0.8912 False \n",
      "------------------------------------------------------------------\n",
      "Other ANOVA\n",
      "        Multiple Comparison of Means - Tukey HSD,FWER=0.05        \n",
      "==================================================================\n",
      "      group1            group2      meandiff  lower  upper  reject\n",
      "------------------------------------------------------------------\n",
      "     no-match     power_user_no_vip -0.3302  -1.4938 0.8335 False \n",
      "     no-match       power_user_vip  -0.1635  -1.4887 1.1618 False \n",
      "power_user_no_vip   power_user_vip   0.1667  -1.5113 1.8447 False \n",
      "------------------------------------------------------------------\n",
      "SH Error ANOVA\n",
      "        Multiple Comparison of Means - Tukey HSD,FWER=0.05        \n",
      "==================================================================\n",
      "      group1            group2      meandiff  lower  upper  reject\n",
      "------------------------------------------------------------------\n",
      "     no-match     power_user_no_vip  0.1905  -0.5028 0.8838 False \n",
      "     no-match       power_user_vip   0.3238  -0.2304 0.878  False \n",
      "power_user_no_vip   power_user_vip   0.1333  -0.6999 0.9666 False \n",
      "------------------------------------------------------------------\n",
      "Lot Full ANOVA\n",
      "        Multiple Comparison of Means - Tukey HSD,FWER=0.05        \n",
      "==================================================================\n",
      "      group1            group2      meandiff  lower  upper  reject\n",
      "------------------------------------------------------------------\n",
      "     no-match     power_user_no_vip  0.2214  -0.2217 0.6645 False \n",
      "     no-match       power_user_vip   0.7223   0.3887 1.0559  True \n",
      "power_user_no_vip   power_user_vip   0.5008  -0.0012 1.0029 False \n",
      "------------------------------------------------------------------\n",
      "Booking ANOVA\n",
      "         Multiple Comparison of Means - Tukey HSD,FWER=0.05        \n",
      "===================================================================\n",
      "      group1            group2      meandiff  lower   upper  reject\n",
      "-------------------------------------------------------------------\n",
      "     no-match     power_user_no_vip -0.5697  -1.0811 -0.0582  True \n",
      "     no-match       power_user_vip  -0.4814  -0.9928   0.03  False \n",
      "power_user_no_vip   power_user_vip   0.0882  -0.5997  0.7762 False \n",
      "-------------------------------------------------------------------\n",
      "Equipment Error ANOVA\n",
      "        Multiple Comparison of Means - Tukey HSD,FWER=0.05        \n",
      "==================================================================\n",
      "      group1            group2      meandiff  lower  upper  reject\n",
      "------------------------------------------------------------------\n",
      "     no-match     power_user_no_vip -0.2004  -0.9844 0.5835 False \n",
      "     no-match       power_user_vip   0.625    0.0703 1.1796  True \n",
      "power_user_no_vip   power_user_vip   0.8254  -0.0507 1.7015 False \n",
      "------------------------------------------------------------------\n",
      "Change of Plans ANOVA\n",
      "        Multiple Comparison of Means - Tukey HSD,FWER=0.05        \n",
      "==================================================================\n",
      "      group1            group2      meandiff  lower  upper  reject\n",
      "------------------------------------------------------------------\n",
      "     no-match     power_user_no_vip -0.1729  -0.4486 0.1027 False \n",
      "     no-match       power_user_vip   0.1301  -0.1182 0.3784 False \n",
      "power_user_no_vip   power_user_vip   0.303   -0.0429 0.6489 False \n",
      "------------------------------------------------------------------\n",
      "Redemption ANOVA\n",
      "        Multiple Comparison of Means - Tukey HSD,FWER=0.05        \n",
      "==================================================================\n",
      "      group1            group2      meandiff  lower  upper  reject\n",
      "------------------------------------------------------------------\n",
      "     no-match     power_user_no_vip -0.5476  -1.1769 0.0816 False \n",
      "     no-match       power_user_vip   0.3182  -0.1945 0.8308 False \n",
      "power_user_no_vip   power_user_vip   0.8658   0.0917 1.6399  True \n",
      "------------------------------------------------------------------\n",
      "Booked By Mistake ANOVA\n",
      "        Multiple Comparison of Means - Tukey HSD,FWER=0.05        \n",
      "==================================================================\n",
      "      group1            group2      meandiff  lower  upper  reject\n",
      "------------------------------------------------------------------\n",
      "     no-match     power_user_no_vip -0.0523  -0.4312 0.3266 False \n",
      "     no-match       power_user_vip   0.112   -0.2147 0.4387 False \n",
      "power_user_no_vip   power_user_vip   0.1643  -0.3058 0.6344 False \n",
      "------------------------------------------------------------------\n",
      "Change Date / Time ANOVA\n",
      "        Multiple Comparison of Means - Tukey HSD,FWER=0.05        \n",
      "==================================================================\n",
      "      group1            group2      meandiff  lower  upper  reject\n",
      "------------------------------------------------------------------\n",
      "     no-match     power_user_no_vip -0.1946   -0.925 0.5358 False \n",
      "     no-match       power_user_vip  -0.1746   -1.289 0.9398 False \n",
      "power_user_no_vip   power_user_vip    0.02   -1.2657 1.3057 False \n",
      "------------------------------------------------------------------\n"
     ]
    }
   ],
   "source": [
    "categories = ['Facility', 'Customer Questions', 'User Error', 'Reservation Actions', 'Other', 'SH Error']\n",
    "tag = ['Lot Full', 'Booking', 'Equipment Error', 'Change of Plans', 'Redemption', 'Booked By Mistake', 'Change Date / Time']\n",
    "\n",
    "def filtered_anova(col_name,list_name):\n",
    "    for name in list_name:\n",
    "        print(name + ' ANOVA')\n",
    "        temp_df = csat_returned[csat_returned[col_name] == name]\n",
    "        temp_comp = mc.MultiComparison(temp_df['csat'], temp_df['exit'])\n",
    "        temp_hoc_res = temp_comp.tukeyhsd(alpha = 0.05)\n",
    "        print(temp_hoc_res.summary())\n",
    "        \n",
    "filtered_anova('tag_category', categories)\n",
    "filtered_anova('tag', tag)\n"
   ]
  },
  {
   "cell_type": "code",
   "execution_count": 22,
   "metadata": {},
   "outputs": [
    {
     "data": {
      "text/html": [
       "<table class=\"simpletable\">\n",
       "<caption>Multiple Comparison of Means - Tukey HSD,FWER=0.05</caption>\n",
       "<tr>\n",
       "       <th>group1</th>            <th>group2</th>       <th>meandiff</th>   <th>lower</th>   <th>upper</th>  <th>reject</th>\n",
       "</tr>\n",
       "<tr>\n",
       "      <td>no-match</td>      <td>power_user_no_vip</td>  <td>-3.8811</td> <td>-18.8549</td> <td>11.0926</td>  <td>False</td>\n",
       "</tr>\n",
       "<tr>\n",
       "      <td>no-match</td>       <td>power_user_vip</td>   <td>-14.3246</td> <td>-29.3189</td> <td>0.6698</td>   <td>False</td>\n",
       "</tr>\n",
       "<tr>\n",
       "  <td>power_user_no_vip</td>  <td>power_user_vip</td>   <td>-10.4434</td> <td>-30.3363</td> <td>9.4495</td>   <td>False</td>\n",
       "</tr>\n",
       "</table>"
      ],
      "text/plain": [
       "<class 'statsmodels.iolib.table.SimpleTable'>"
      ]
     },
     "execution_count": 22,
     "metadata": {},
     "output_type": "execute_result"
    }
   ],
   "source": [
    "comp6 = mc.MultiComparison(df['hold_time'], df['exit'])\n",
    "post_hoc_res3 = comp6.tukeyhsd()\n",
    "post_hoc_res3.summary()"
   ]
  },
  {
   "cell_type": "code",
   "execution_count": 74,
   "metadata": {},
   "outputs": [
    {
     "name": "stdout",
     "output_type": "stream",
     "text": [
      "<class 'pandas.core.frame.DataFrame'>\n",
      "RangeIndex: 65573 entries, 0 to 65572\n",
      "Data columns (total 11 columns):\n",
      " #   Column               Non-Null Count  Dtype         \n",
      "---  ------               --------------  -----         \n",
      " 0   exit                 65573 non-null  object        \n",
      " 1   id                   65573 non-null  object        \n",
      " 2   user_id              64916 non-null  float64       \n",
      " 3   tag                  65111 non-null  object        \n",
      " 4   tag_category         65118 non-null  object        \n",
      " 5   csat                 10338 non-null  float64       \n",
      " 6   csat_returned        65573 non-null  int64         \n",
      " 7   step_start_date      65573 non-null  datetime64[ns]\n",
      " 8   latest_rental_date   63335 non-null  datetime64[ns]\n",
      " 9   rental_created_date  65573 non-null  datetime64[ns]\n",
      " 10  hold_time            65573 non-null  float64       \n",
      "dtypes: datetime64[ns](3), float64(3), int64(1), object(4)\n",
      "memory usage: 5.5+ MB\n",
      "None\n"
     ]
    }
   ],
   "source": [
    "df_retention['rental_created_date'] = df_retention['rental_created_date'].fillna('1/1/2021')\n",
    "df_retention['rental_created_date'] = pd.to_datetime(df_retention['rental_created_date'])\n",
    "df_retention['retention_rentals'] = df_retention['rental_created_date'].apply(lambda x: 1 if df_retention['rental_created_date'] > df_retention['step_start_date'] else 0)\n",
    "print(df_retention[df_retention['retention_rentals'] == 1].head(20))\n",
    "\n",
    "#df_retention['rental_created_date'] = df_retention['rental_created_date'].fillna(0)\n",
    "#print(df_retention['rental_created_date'].tail(50))\n",
    "#print(df_retention.info())"
   ]
  },
  {
   "cell_type": "code",
   "execution_count": 91,
   "metadata": {},
   "outputs": [
    {
     "name": "stdout",
     "output_type": "stream",
     "text": [
      "                  exit                  id   user_id                tag  \\\n",
      "658  power_user_no_vip  5003o00001SiVJvAAN  999983.0            Booking   \n",
      "667           no-match  5003o00001SiSf9AAF  999876.0  Booked By Mistake   \n",
      "672  power_user_no_vip  5003o00001SfwzPAAR  999862.0  Booked By Mistake   \n",
      "673  power_user_no_vip  5003o00001SfwzPAAR  999862.0  Booked By Mistake   \n",
      "674  power_user_no_vip  5003o00001SfwzPAAR  999862.0  Booked By Mistake   \n",
      "675  power_user_no_vip  5003o00001SfwzPAAR  999862.0  Booked By Mistake   \n",
      "676  power_user_no_vip  5003o00001SfwzPAAR  999862.0  Booked By Mistake   \n",
      "677  power_user_no_vip  5003o00001SfwzPAAR  999862.0  Booked By Mistake   \n",
      "678  power_user_no_vip  5003o00001SfwzPAAR  999862.0  Booked By Mistake   \n",
      "681           no-match  5003o00001SguVVAAZ  999708.0    Equipment Error   \n",
      "684  power_user_no_vip  5003o00001Sg6MIAAZ  998390.0            Booking   \n",
      "685           no-match  5003o00001Sg6LVAAZ  998390.0          Duplicate   \n",
      "686  power_user_no_vip  5003o00001Sg6MIAAZ  998390.0            Booking   \n",
      "688           no-match  5003o00001Sg6LVAAZ  998390.0          Duplicate   \n",
      "690  power_user_no_vip  5003o00001SgLQhAAN  997815.0           Lot Full   \n",
      "691  power_user_no_vip  5003o00001SgLNYAA3  997815.0           Lot Full   \n",
      "692  power_user_no_vip  5003o00001SgLNYAA3  997815.0           Lot Full   \n",
      "697           no-match  5003o00001SgLQhAAN  997815.0           Lot Full   \n",
      "698  power_user_no_vip  5003o00001SgLQhAAN  997815.0           Lot Full   \n",
      "699           no-match  5003o00001SgLQhAAN  997815.0           Lot Full   \n",
      "701  power_user_no_vip  5003o00001SgLQhAAN  997815.0           Lot Full   \n",
      "702           no-match  5003o00001SgLQhAAN  997815.0           Lot Full   \n",
      "703  power_user_no_vip  5003o00001SgLNYAA3  997815.0           Lot Full   \n",
      "706           no-match  5003o00001Sh4hlAAB  996623.0    Equipment Error   \n",
      "709     power_user_vip  5003o00001SfwI4AAJ  996390.0    Change of Plans   \n",
      "710     power_user_vip  5003o00001SfwI4AAJ  996390.0    Change of Plans   \n",
      "712           no-match  5003o00001SgTa2AAF  995908.0    Vehicle Details   \n",
      "715           no-match  5003o00001SgqepAAB  995217.0    General Billing   \n",
      "720     power_user_vip  5003o00001Sgf47AAB  994989.0    Equipment Error   \n",
      "721     power_user_vip  5003o00001Sgf47AAB  994989.0    Equipment Error   \n",
      "\n",
      "            tag_category  csat  csat_returned step_start_date  \\\n",
      "658   Customer Questions   NaN              0      2021-06-24   \n",
      "667           User Error   NaN              0      2021-06-24   \n",
      "672           User Error   NaN              0      2021-05-21   \n",
      "673           User Error   NaN              0      2021-05-21   \n",
      "674           User Error   NaN              0      2021-05-21   \n",
      "675           User Error   NaN              0      2021-05-21   \n",
      "676           User Error   NaN              0      2021-05-21   \n",
      "677           User Error   NaN              0      2021-05-21   \n",
      "678           User Error   NaN              0      2021-05-21   \n",
      "681             Facility   NaN              0      2021-06-04   \n",
      "684   Customer Questions   1.0              1      2021-05-24   \n",
      "685                Other   NaN              0      2021-05-24   \n",
      "686   Customer Questions   1.0              1      2021-05-24   \n",
      "688                Other   NaN              0      2021-05-24   \n",
      "690             Facility   NaN              0      2021-05-27   \n",
      "691             Facility   NaN              0      2021-05-27   \n",
      "692             Facility   NaN              0      2021-05-27   \n",
      "697             Facility   NaN              0      2021-05-27   \n",
      "698             Facility   NaN              0      2021-05-27   \n",
      "699             Facility   NaN              0      2021-05-27   \n",
      "701             Facility   NaN              0      2021-05-27   \n",
      "702             Facility   NaN              0      2021-05-27   \n",
      "703             Facility   NaN              0      2021-05-27   \n",
      "706             Facility   5.0              1      2021-06-07   \n",
      "709           User Error   NaN              0      2021-05-21   \n",
      "710           User Error   NaN              0      2021-05-21   \n",
      "712  Reservation Actions   NaN              0      2021-05-29   \n",
      "715              Billing   1.0              1      2021-06-03   \n",
      "720             Facility   5.0              1      2021-06-01   \n",
      "721             Facility   5.0              1      2021-06-01   \n",
      "\n",
      "    latest_rental_date rental_created_date  hold_time  retention_rentals  \n",
      "658         2021-06-25          2021-06-25        0.0               True  \n",
      "667         2021-06-30          2021-06-30        0.0               True  \n",
      "672         2021-05-29          2021-05-23        0.0               True  \n",
      "673         2021-05-29          2021-05-29        0.0               True  \n",
      "674         2021-05-29          2021-05-28        0.0               True  \n",
      "675         2021-05-29          2021-05-22        0.0               True  \n",
      "676         2021-05-29          2021-05-24        0.0               True  \n",
      "677         2021-05-29          2021-05-27        0.0               True  \n",
      "678         2021-05-29          2021-05-26        0.0               True  \n",
      "681         2021-06-30          2021-06-30        0.0               True  \n",
      "684         2021-07-07          2021-07-07        0.0               True  \n",
      "685         2021-07-07          2021-06-20        0.0               True  \n",
      "686         2021-07-07          2021-06-20        0.0               True  \n",
      "688         2021-07-07          2021-07-07        0.0               True  \n",
      "690         2021-06-22          2021-06-14        0.0               True  \n",
      "691         2021-06-22          2021-06-22        0.0               True  \n",
      "692         2021-06-22          2021-06-19        0.0               True  \n",
      "697         2021-06-22          2021-06-14        0.0               True  \n",
      "698         2021-06-22          2021-06-19        0.0               True  \n",
      "699         2021-06-22          2021-06-19        0.0               True  \n",
      "701         2021-06-22          2021-06-22        0.0               True  \n",
      "702         2021-06-22          2021-06-22        0.0               True  \n",
      "703         2021-06-22          2021-06-14        0.0               True  \n",
      "706         2021-06-10          2021-06-10        0.0               True  \n",
      "709         2021-05-02          2021-07-08        0.0               True  \n",
      "710         2021-05-02          2021-05-29        0.0               True  \n",
      "712         2021-06-07          2021-06-07        0.0               True  \n",
      "715         2021-06-01          2021-06-06        0.0               True  \n",
      "720         2021-06-05          2021-06-05        0.0               True  \n",
      "721         2021-06-05          2021-06-04        0.0               True  \n"
     ]
    }
   ],
   "source": [
    "\n",
    "df_retention['retention_rentals'] = df_retention['rental_created_date'] > df_retention['step_start_date'] \n",
    "\n",
    "print(df_retention[df_retention['retention_rentals'] == True].head(30))"
   ]
  },
  {
   "cell_type": "code",
   "execution_count": 96,
   "metadata": {},
   "outputs": [
    {
     "name": "stdout",
     "output_type": "stream",
     "text": [
      "           user_id  retention_rentals\n",
      "user_id                              \n",
      "3979.0           1                  0\n",
      "3982.0           4                  1\n",
      "4322.0           1                  1\n",
      "5275.0           2                  0\n",
      "5318.0           4                  3\n",
      "...            ...                ...\n",
      "8542225.0        1                  0\n",
      "8542440.0        1                  0\n",
      "8542489.0        1                  0\n",
      "8542491.0        1                  0\n",
      "8542576.0        1                  0\n",
      "\n",
      "[17390 rows x 2 columns]\n"
     ]
    }
   ],
   "source": [
    "df_grouped = df_retention.groupby('user_id').agg({'user_id':'count','retention_rentals':'sum'})\n",
    "print(df_grouped)"
   ]
  },
  {
   "cell_type": "code",
   "execution_count": 97,
   "metadata": {},
   "outputs": [
    {
     "data": {
      "text/html": [
       "<div>\n",
       "<style scoped>\n",
       "    .dataframe tbody tr th:only-of-type {\n",
       "        vertical-align: middle;\n",
       "    }\n",
       "\n",
       "    .dataframe tbody tr th {\n",
       "        vertical-align: top;\n",
       "    }\n",
       "\n",
       "    .dataframe thead th {\n",
       "        text-align: right;\n",
       "    }\n",
       "</style>\n",
       "<table border=\"1\" class=\"dataframe\">\n",
       "  <thead>\n",
       "    <tr style=\"text-align: right;\">\n",
       "      <th></th>\n",
       "      <th>user_id</th>\n",
       "      <th>retention_rentals</th>\n",
       "    </tr>\n",
       "  </thead>\n",
       "  <tbody>\n",
       "    <tr>\n",
       "      <th>count</th>\n",
       "      <td>17390.000000</td>\n",
       "      <td>17390.000000</td>\n",
       "    </tr>\n",
       "    <tr>\n",
       "      <th>mean</th>\n",
       "      <td>3.732950</td>\n",
       "      <td>1.227487</td>\n",
       "    </tr>\n",
       "    <tr>\n",
       "      <th>std</th>\n",
       "      <td>7.089026</td>\n",
       "      <td>3.817341</td>\n",
       "    </tr>\n",
       "    <tr>\n",
       "      <th>min</th>\n",
       "      <td>1.000000</td>\n",
       "      <td>0.000000</td>\n",
       "    </tr>\n",
       "    <tr>\n",
       "      <th>25%</th>\n",
       "      <td>1.000000</td>\n",
       "      <td>0.000000</td>\n",
       "    </tr>\n",
       "    <tr>\n",
       "      <th>50%</th>\n",
       "      <td>2.000000</td>\n",
       "      <td>0.000000</td>\n",
       "    </tr>\n",
       "    <tr>\n",
       "      <th>75%</th>\n",
       "      <td>4.000000</td>\n",
       "      <td>1.000000</td>\n",
       "    </tr>\n",
       "    <tr>\n",
       "      <th>max</th>\n",
       "      <td>240.000000</td>\n",
       "      <td>103.000000</td>\n",
       "    </tr>\n",
       "  </tbody>\n",
       "</table>\n",
       "</div>"
      ],
      "text/plain": [
       "            user_id  retention_rentals\n",
       "count  17390.000000       17390.000000\n",
       "mean       3.732950           1.227487\n",
       "std        7.089026           3.817341\n",
       "min        1.000000           0.000000\n",
       "25%        1.000000           0.000000\n",
       "50%        2.000000           0.000000\n",
       "75%        4.000000           1.000000\n",
       "max      240.000000         103.000000"
      ]
     },
     "execution_count": 97,
     "metadata": {},
     "output_type": "execute_result"
    }
   ],
   "source": [
    "df_grouped.describe()"
   ]
  },
  {
   "cell_type": "code",
   "execution_count": null,
   "metadata": {},
   "outputs": [],
   "source": []
  }
 ],
 "metadata": {
  "kernelspec": {
   "display_name": "Python 3",
   "language": "python",
   "name": "python3"
  },
  "language_info": {
   "codemirror_mode": {
    "name": "ipython",
    "version": 3
   },
   "file_extension": ".py",
   "mimetype": "text/x-python",
   "name": "python",
   "nbconvert_exporter": "python",
   "pygments_lexer": "ipython3",
   "version": "3.7.0"
  }
 },
 "nbformat": 4,
 "nbformat_minor": 2
}
