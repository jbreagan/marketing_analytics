{
 "cells": [
  {
   "cell_type": "code",
   "execution_count": 2,
   "metadata": {},
   "outputs": [
    {
     "name": "stdout",
     "output_type": "stream",
     "text": [
      "   user_id    group  promo_spend  rental_count  total_gross_revenue  net_rev  \\\n",
      "0  6953219   test_7          NaN           0.0                  0.0      0.0   \n",
      "1  7107695  test_11          NaN           0.0                  0.0      0.0   \n",
      "2  4906705  test_11          NaN           0.0                  0.0      0.0   \n",
      "3  5029568  control          NaN           0.0                  0.0      0.0   \n",
      "4  4962878  test_11          NaN           0.0                  0.0      0.0   \n",
      "\n",
      "   fee_gmv  \n",
      "0      NaN  \n",
      "1      0.0  \n",
      "2      NaN  \n",
      "3      0.0  \n",
      "4      0.0  \n"
     ]
    }
   ],
   "source": [
    "import pandas as pd\n",
    "import matplotlib.pyplot as plt\n",
    "import seaborn as sns\n",
    "\n",
    "df = pd.read_csv('airport_promo_2021_06.csv')\n",
    "print(df.head())"
   ]
  },
  {
   "cell_type": "code",
   "execution_count": 3,
   "metadata": {},
   "outputs": [],
   "source": [
    "df = df.fillna(0)"
   ]
  },
  {
   "cell_type": "code",
   "execution_count": 5,
   "metadata": {},
   "outputs": [
    {
     "name": "stdout",
     "output_type": "stream",
     "text": [
      "(-0.8, 80.0]      1046959\n",
      "(80.0, 160.0]        1315\n",
      "(160.0, 240.0]        219\n",
      "(240.0, 320.0]         51\n",
      "(320.0, 400.0]         23\n",
      "(560.0, 640.0]          4\n",
      "(400.0, 480.0]          3\n",
      "(720.0, 800.0]          1\n",
      "(640.0, 720.0]          0\n",
      "(480.0, 560.0]          0\n",
      "Name: total_gross_revenue, dtype: int64\n"
     ]
    }
   ],
   "source": [
    "bins = pd.cut(df['total_gross_revenue'], bins = 10)\n",
    "print(bins.value_counts())"
   ]
  },
  {
   "cell_type": "code",
   "execution_count": 7,
   "metadata": {},
   "outputs": [
    {
     "name": "stdout",
     "output_type": "stream",
     "text": [
      "<class 'pandas.core.frame.DataFrame'>\n",
      "RangeIndex: 1048575 entries, 0 to 1048574\n",
      "Data columns (total 7 columns):\n",
      " #   Column               Non-Null Count    Dtype  \n",
      "---  ------               --------------    -----  \n",
      " 0   user_id              1048575 non-null  int64  \n",
      " 1   group                1048575 non-null  object \n",
      " 2   promo_spend          1048575 non-null  float64\n",
      " 3   rental_count         1048575 non-null  float64\n",
      " 4   total_gross_revenue  1048575 non-null  float64\n",
      " 5   net_rev              1048575 non-null  float64\n",
      " 6   fee_gmv              1048575 non-null  float64\n",
      "dtypes: float64(5), int64(1), object(1)\n",
      "memory usage: 56.0+ MB\n",
      "None\n"
     ]
    }
   ],
   "source": [
    "print(df.info())"
   ]
  },
  {
   "cell_type": "code",
   "execution_count": 8,
   "metadata": {},
   "outputs": [
    {
     "data": {
      "text/html": [
       "<table class=\"simpletable\">\n",
       "<caption>Multiple Comparison of Means - Tukey HSD,FWER=0.05</caption>\n",
       "<tr>\n",
       "  <th>group1</th>  <th>group2</th>  <th>meandiff</th>  <th>lower</th>   <th>upper</th> <th>reject</th>\n",
       "</tr>\n",
       "<tr>\n",
       "  <td>control</td> <td>test_11</td>  <td>0.0001</td>  <td>-0.0004</td> <td>0.0005</td>  <td>False</td>\n",
       "</tr>\n",
       "<tr>\n",
       "  <td>control</td> <td>test_7</td>     <td>0.0</td>   <td>-0.0004</td> <td>0.0005</td>  <td>False</td>\n",
       "</tr>\n",
       "<tr>\n",
       "  <td>test_11</td> <td>test_7</td>    <td>-0.0</td>   <td>-0.0005</td> <td>0.0004</td>  <td>False</td>\n",
       "</tr>\n",
       "</table>"
      ],
      "text/plain": [
       "<class 'statsmodels.iolib.table.SimpleTable'>"
      ]
     },
     "execution_count": 8,
     "metadata": {},
     "output_type": "execute_result"
    }
   ],
   "source": [
    "import statsmodels.stats.multicomp as mc\n",
    "\n",
    "comp1 = mc.MultiComparison(df['rental_count'], df['group'])\n",
    "post_hoc_res1 = comp1.tukeyhsd()\n",
    "post_hoc_res1.summary()"
   ]
  },
  {
   "cell_type": "code",
   "execution_count": 9,
   "metadata": {},
   "outputs": [
    {
     "name": "stdout",
     "output_type": "stream",
     "text": [
      "ANOVA results of column: rental_count\n",
      "\n",
      "Multiple Comparison of Means - Tukey HSD,FWER=0.05\n",
      "==============================================\n",
      " group1  group2 meandiff  lower  upper  reject\n",
      "----------------------------------------------\n",
      "control test_11  0.0001  -0.0004 0.0005 False \n",
      "control  test_7   0.0    -0.0004 0.0005 False \n",
      "test_11  test_7   -0.0   -0.0005 0.0004 False \n",
      "----------------------------------------------\n",
      "ANOVA results of column: total_gross_revenue\n",
      "\n",
      "Multiple Comparison of Means - Tukey HSD,FWER=0.05\n",
      "==============================================\n",
      " group1  group2 meandiff  lower  upper  reject\n",
      "----------------------------------------------\n",
      "control test_11  0.0115  -0.0243 0.0473 False \n",
      "control  test_7  0.0095  -0.0263 0.0452 False \n",
      "test_11  test_7  -0.002  -0.0377 0.0337 False \n",
      "----------------------------------------------\n",
      "ANOVA results of column: net_rev\n",
      "\n",
      "Multiple Comparison of Means - Tukey HSD,FWER=0.05\n",
      "==============================================\n",
      " group1  group2 meandiff  lower  upper  reject\n",
      "----------------------------------------------\n",
      "control test_11  0.0016  -0.0041 0.0072 False \n",
      "control  test_7  0.0013  -0.0043 0.0069 False \n",
      "test_11  test_7 -0.0003  -0.0059 0.0053 False \n",
      "----------------------------------------------\n",
      "ANOVA results of column: fee_gmv\n",
      "\n",
      "Multiple Comparison of Means - Tukey HSD,FWER=0.05\n",
      "==============================================\n",
      " group1  group2 meandiff  lower  upper  reject\n",
      "----------------------------------------------\n",
      "control test_11   0.0    -0.0014 0.0015 False \n",
      "control  test_7 -0.0003  -0.0018 0.0012 False \n",
      "test_11  test_7 -0.0003  -0.0018 0.0011 False \n",
      "----------------------------------------------\n"
     ]
    }
   ],
   "source": [
    "columns = ['rental_count', 'total_gross_revenue', 'net_rev', 'fee_gmv']\n",
    "\n",
    "for column in columns:\n",
    "    comp = mc.MultiComparison(df[column],df['group'])\n",
    "    post_hoc_res = comp.tukeyhsd()\n",
    "    print(\"ANOVA results of column: \" + column + '\\n')\n",
    "    print(post_hoc_res.summary())"
   ]
  },
  {
   "cell_type": "code",
   "execution_count": 10,
   "metadata": {},
   "outputs": [
    {
     "name": "stdout",
     "output_type": "stream",
     "text": [
      "     user_id    group  promo_spend  rental_count  total_gross_revenue  \\\n",
      "321  8094461   test_7          7.0           1.0                28.48   \n",
      "322  6165010   test_7          7.0           1.0                26.00   \n",
      "323   933854  test_11         11.0           1.0                33.00   \n",
      "324  3585847  test_11         11.0           1.0                52.00   \n",
      "325  8411600  test_11         11.0           1.0                23.28   \n",
      "\n",
      "     net_rev  fee_gmv  \n",
      "321     5.26     3.99  \n",
      "322     4.87     2.49  \n",
      "323     5.94     2.99  \n",
      "324     8.75     2.49  \n",
      "325     4.47     2.49  \n"
     ]
    }
   ],
   "source": [
    "rentals_only = df['rental_count'] >= 1\n",
    "df2 = df[rentals_only]\n",
    "print(df2.head())"
   ]
  },
  {
   "cell_type": "code",
   "execution_count": 14,
   "metadata": {},
   "outputs": [
    {
     "name": "stdout",
     "output_type": "stream",
     "text": [
      "ANOVA results of column: rental_count\n",
      "\n",
      "Multiple Comparison of Means - Tukey HSD,FWER=0.05\n",
      "==============================================\n",
      " group1  group2 meandiff  lower  upper  reject\n",
      "----------------------------------------------\n",
      "control test_11 -0.0186  -0.0523 0.0151 False \n",
      "control  test_7  0.0134  -0.0206 0.0474 False \n",
      "test_11  test_7  0.032   -0.0017 0.0656 False \n",
      "----------------------------------------------\n",
      "ANOVA results of column: total_gross_revenue\n",
      "\n",
      "Multiple Comparison of Means - Tukey HSD,FWER=0.05\n",
      "==============================================\n",
      " group1  group2 meandiff  lower  upper  reject\n",
      "----------------------------------------------\n",
      "control test_11  0.2905  -4.3102 4.8912 False \n",
      "control  test_7  2.778   -1.8593 7.4152 False \n",
      "test_11  test_7  2.4875  -2.1088 7.0838 False \n",
      "----------------------------------------------\n",
      "ANOVA results of column: net_rev\n",
      "\n",
      "Multiple Comparison of Means - Tukey HSD,FWER=0.05\n",
      "==============================================\n",
      " group1  group2 meandiff  lower  upper  reject\n",
      "----------------------------------------------\n",
      "control test_11 -0.0131  -0.7086 0.6824 False \n",
      "control  test_7  0.3938  -0.3072 1.0949 False \n",
      "test_11  test_7  0.4069  -0.2879 1.1018 False \n",
      "----------------------------------------------\n",
      "ANOVA results of column: fee_gmv\n",
      "\n",
      "Multiple Comparison of Means - Tukey HSD,FWER=0.05\n",
      "==============================================\n",
      " group1  group2 meandiff  lower  upper  reject\n",
      "----------------------------------------------\n",
      "control test_11  -0.088  -0.2247 0.0487 False \n",
      "control  test_7 -0.0188  -0.1566 0.119  False \n",
      "test_11  test_7  0.0692  -0.0673 0.2058 False \n",
      "----------------------------------------------\n"
     ]
    }
   ],
   "source": [
    "for column in columns:\n",
    "    comp = mc.MultiComparison(df2[column],df2['group'])\n",
    "    post_hoc_res = comp.tukeyhsd(alpha=0.05)\n",
    "    print(\"ANOVA results of column: \" + column + '\\n')\n",
    "    print(post_hoc_res.summary())"
   ]
  },
  {
   "cell_type": "code",
   "execution_count": 16,
   "metadata": {},
   "outputs": [
    {
     "name": "stdout",
     "output_type": "stream",
     "text": [
      "   user_id   group         market  rental_count  total_gross_revenue  net_rev\n",
      "0  8083041  test_7  Other Markets            15               148.73    24.23\n",
      "1  8315464  test_7  Other Markets             9               348.85    61.23\n",
      "2  7839854  test_7  Other Markets             8               262.14    47.25\n",
      "3  7693189  test_7  San Francisco             7               260.00    44.94\n",
      "4  8280702  test_7  Other Markets             6                51.83     8.77\n"
     ]
    }
   ],
   "source": [
    "df_markets = pd.read_csv('airport_promo_markets_2021_06.csv')\n",
    "print(df_markets.head())"
   ]
  },
  {
   "cell_type": "code",
   "execution_count": 17,
   "metadata": {},
   "outputs": [
    {
     "name": "stdout",
     "output_type": "stream",
     "text": [
      "market           Boston  Chicago  New York  Other Markets  Philadelphia  \\\n",
      "user_id group                                                             \n",
      "8476    control     NaN      1.0       NaN            NaN           NaN   \n",
      "9405    control     NaN      3.0       NaN            NaN           NaN   \n",
      "11700   test_11     NaN      1.0       NaN            NaN           NaN   \n",
      "13662   control     NaN      1.0       NaN            NaN           NaN   \n",
      "18000   test_7      NaN      NaN       NaN            1.0           NaN   \n",
      "\n",
      "market           San Francisco  Toronto  Washington  \n",
      "user_id group                                        \n",
      "8476    control            NaN      NaN         NaN  \n",
      "9405    control            NaN      NaN         NaN  \n",
      "11700   test_11            NaN      NaN         NaN  \n",
      "13662   control            NaN      NaN         NaN  \n",
      "18000   test_7             NaN      NaN         NaN  \n"
     ]
    }
   ],
   "source": [
    "df_markets_pivot = df_markets.pivot(index=['user_id','group'],columns='market',values='rental_count')\n",
    "print(df_markets_pivot.head())"
   ]
  },
  {
   "cell_type": "code",
   "execution_count": 22,
   "metadata": {},
   "outputs": [],
   "source": [
    "df_markets_pivot = pd.DataFrame(df_markets_pivot.to_records())"
   ]
  },
  {
   "cell_type": "code",
   "execution_count": 23,
   "metadata": {},
   "outputs": [
    {
     "name": "stdout",
     "output_type": "stream",
     "text": [
      "   user_id    group  Boston  Chicago  New York  Other Markets  Philadelphia  \\\n",
      "0     8476  control     NaN      1.0       NaN            NaN           NaN   \n",
      "1     9405  control     NaN      3.0       NaN            NaN           NaN   \n",
      "2    11700  test_11     NaN      1.0       NaN            NaN           NaN   \n",
      "3    13662  control     NaN      1.0       NaN            NaN           NaN   \n",
      "4    18000   test_7     NaN      NaN       NaN            1.0           NaN   \n",
      "\n",
      "   San Francisco  Toronto  Washington  \n",
      "0            NaN      NaN         NaN  \n",
      "1            NaN      NaN         NaN  \n",
      "2            NaN      NaN         NaN  \n",
      "3            NaN      NaN         NaN  \n",
      "4            NaN      NaN         NaN  \n"
     ]
    }
   ],
   "source": [
    "print(df_markets_pivot.head())"
   ]
  },
  {
   "cell_type": "code",
   "execution_count": 24,
   "metadata": {},
   "outputs": [
    {
     "name": "stdout",
     "output_type": "stream",
     "text": [
      "user_id          0\n",
      "group            0\n",
      "Boston           0\n",
      "Chicago          0\n",
      "New York         0\n",
      "Other Markets    0\n",
      "Philadelphia     0\n",
      "San Francisco    0\n",
      "Toronto          0\n",
      "Washington       0\n",
      "dtype: int64\n"
     ]
    }
   ],
   "source": [
    "df_markets_pivot = df_markets_pivot.fillna(0)\n",
    "print(df_markets_pivot.isnull().sum())"
   ]
  },
  {
   "cell_type": "code",
   "execution_count": 26,
   "metadata": {},
   "outputs": [
    {
     "name": "stdout",
     "output_type": "stream",
     "text": [
      "Index(['Boston', 'Chicago', 'New York', 'Other Markets', 'Philadelphia',\n",
      "       'San Francisco', 'Toronto', 'Washington'],\n",
      "      dtype='object')\n"
     ]
    }
   ],
   "source": [
    "print(df_markets_pivot.columns[2:])"
   ]
  },
  {
   "cell_type": "code",
   "execution_count": 28,
   "metadata": {},
   "outputs": [
    {
     "name": "stdout",
     "output_type": "stream",
     "text": [
      "['Boston', 'Chicago', 'New York', 'Other Markets', 'Philadelphia', 'San Francisco', 'Toronto', 'Washington']\n"
     ]
    }
   ],
   "source": [
    "markets = df_markets_pivot.columns[2:].tolist()\n",
    "print(markets)"
   ]
  },
  {
   "cell_type": "code",
   "execution_count": 31,
   "metadata": {},
   "outputs": [
    {
     "name": "stdout",
     "output_type": "stream",
     "text": [
      "ANOVA results of column: Boston\n",
      "\n",
      "Multiple Comparison of Means - Tukey HSD,FWER=0.05\n",
      "==============================================\n",
      " group1  group2 meandiff  lower  upper  reject\n",
      "----------------------------------------------\n",
      "control test_11  0.0003  -0.0113 0.012  False \n",
      "control  test_7 -0.0019  -0.0136 0.0098 False \n",
      "test_11  test_7 -0.0022  -0.0139 0.0095 False \n",
      "----------------------------------------------\n",
      "ANOVA results of column: Chicago\n",
      "\n",
      "Multiple Comparison of Means - Tukey HSD,FWER=0.05\n",
      "==============================================\n",
      " group1  group2 meandiff  lower  upper  reject\n",
      "----------------------------------------------\n",
      "control test_11 -0.0059  -0.0405 0.0287 False \n",
      "control  test_7 -0.0259  -0.0606 0.0089 False \n",
      "test_11  test_7  -0.02   -0.0547 0.0147 False \n",
      "----------------------------------------------\n",
      "ANOVA results of column: New York\n",
      "\n",
      "Multiple Comparison of Means - Tukey HSD,FWER=0.05\n",
      "==============================================\n",
      " group1  group2 meandiff  lower  upper  reject\n",
      "----------------------------------------------\n",
      "control test_11 -0.0075  -0.0356 0.0206 False \n",
      "control  test_7 -0.0012  -0.0294 0.0271 False \n",
      "test_11  test_7  0.0063  -0.0219 0.0345 False \n",
      "----------------------------------------------\n",
      "ANOVA results of column: Other Markets\n",
      "\n",
      "Multiple Comparison of Means - Tukey HSD,FWER=0.05\n",
      "==============================================\n",
      " group1  group2 meandiff  lower  upper  reject\n",
      "----------------------------------------------\n",
      "control test_11  -0.003  -0.0524 0.0464 False \n",
      "control  test_7  0.0074  -0.0422 0.0571 False \n",
      "test_11  test_7  0.0104  -0.0391  0.06  False \n",
      "----------------------------------------------\n",
      "ANOVA results of column: Philadelphia\n",
      "\n",
      "Multiple Comparison of Means - Tukey HSD,FWER=0.05\n",
      "==============================================\n",
      " group1  group2 meandiff  lower  upper  reject\n",
      "----------------------------------------------\n",
      "control test_11  0.0083  -0.0046 0.0211 False \n",
      "control  test_7 -0.0013  -0.0142 0.0116 False \n",
      "test_11  test_7 -0.0095  -0.0224 0.0033 False \n",
      "----------------------------------------------\n",
      "ANOVA results of column: San Francisco\n",
      "\n",
      "Multiple Comparison of Means - Tukey HSD,FWER=0.05\n",
      "==============================================\n",
      " group1  group2 meandiff  lower  upper  reject\n",
      "----------------------------------------------\n",
      "control test_11  0.0004  -0.0208 0.0217 False \n",
      "control  test_7  0.0036  -0.0177 0.025  False \n",
      "test_11  test_7  0.0032  -0.0181 0.0245 False \n",
      "----------------------------------------------\n",
      "ANOVA results of column: Toronto\n",
      "\n",
      "Multiple Comparison of Means - Tukey HSD,FWER=0.05\n",
      "==============================================\n",
      " group1  group2 meandiff  lower  upper  reject\n",
      "----------------------------------------------\n",
      "control test_11  0.0005  -0.0014 0.0024 False \n",
      "control  test_7  0.0015  -0.0004 0.0035 False \n",
      "test_11  test_7  0.001   -0.0009 0.003  False \n",
      "----------------------------------------------\n",
      "ANOVA results of column: Washington\n",
      "\n",
      "Multiple Comparison of Means - Tukey HSD,FWER=0.05\n",
      "==============================================\n",
      " group1  group2 meandiff  lower  upper  reject\n",
      "----------------------------------------------\n",
      "control test_11 -0.0012  -0.0223  0.02  False \n",
      "control  test_7  0.0119  -0.0094 0.0332 False \n",
      "test_11  test_7  0.013   -0.0082 0.0343 False \n",
      "----------------------------------------------\n"
     ]
    }
   ],
   "source": [
    "for market in markets:\n",
    "    comp = mc.MultiComparison(df_markets_pivot[market],df_markets_pivot['group'])\n",
    "    post_hoc_res = comp.tukeyhsd(alpha=0.05)\n",
    "    print(\"ANOVA results of column: \" + market + '\\n')\n",
    "    print(post_hoc_res.summary())"
   ]
  },
  {
   "cell_type": "code",
   "execution_count": null,
   "metadata": {},
   "outputs": [],
   "source": []
  }
 ],
 "metadata": {
  "kernelspec": {
   "display_name": "Python 3",
   "language": "python",
   "name": "python3"
  },
  "language_info": {
   "codemirror_mode": {
    "name": "ipython",
    "version": 3
   },
   "file_extension": ".py",
   "mimetype": "text/x-python",
   "name": "python",
   "nbconvert_exporter": "python",
   "pygments_lexer": "ipython3",
   "version": "3.7.0"
  }
 },
 "nbformat": 4,
 "nbformat_minor": 2
}
