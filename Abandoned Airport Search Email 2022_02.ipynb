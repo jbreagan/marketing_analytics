{
 "cells": [
  {
   "cell_type": "code",
   "execution_count": 23,
   "id": "dca3ae3b",
   "metadata": {},
   "outputs": [
    {
     "name": "stdout",
     "output_type": "stream",
     "text": [
      "  test_group  renter_id  first_send_rentals  second_send_rentals  \\\n",
      "0       Test    7947534                   0                    0   \n",
      "1       Test    8254530                   0                    0   \n",
      "2       Test    8803501                   0                    0   \n",
      "3       Test    8990899                   0                    0   \n",
      "4       Test    8999151                   0                    0   \n",
      "\n",
      "   third_send_rentals  total_rental_count  \n",
      "0                   0                   0  \n",
      "1                   0                   0  \n",
      "2                   0                   0  \n",
      "3                   0                   0  \n",
      "4                   0                   0  \n"
     ]
    }
   ],
   "source": [
    "import numpy as np\n",
    "import pandas as pd\n",
    "import scipy.stats as stats\n",
    "import statsmodels.stats.api as sms\n",
    "import matplotlib as mpl\n",
    "import matplotlib.pyplot as plt\n",
    "import seaborn as sns\n",
    "from math import ceil\n",
    "\n",
    "%matplotlib inline\n",
    "\n",
    "df = pd.read_csv('airport_abandoned_cart_03_2022.csv')\n",
    "print(df.head())"
   ]
  },
  {
   "cell_type": "code",
   "execution_count": 24,
   "id": "25a41061",
   "metadata": {},
   "outputs": [],
   "source": [
    "df['total_one_week_rental_count'] = df['first_send_rentals'] + df['second_send_rentals'] + df['third_send_rentals']"
   ]
  },
  {
   "cell_type": "code",
   "execution_count": 25,
   "id": "6c9268a4",
   "metadata": {},
   "outputs": [
    {
     "data": {
      "text/plain": [
       "Control    47495\n",
       "Test       14751\n",
       "Name: test_group, dtype: int64"
      ]
     },
     "execution_count": 25,
     "metadata": {},
     "output_type": "execute_result"
    }
   ],
   "source": [
    "df['test_group'].value_counts()"
   ]
  },
  {
   "cell_type": "code",
   "execution_count": 26,
   "id": "9ab595f4",
   "metadata": {},
   "outputs": [],
   "source": [
    "converted = df['total_one_week_rental_count'] > 0\n",
    "df['converted'] = converted.astype('int')"
   ]
  },
  {
   "cell_type": "code",
   "execution_count": 27,
   "id": "0cb2e3c6",
   "metadata": {},
   "outputs": [
    {
     "name": "stdout",
     "output_type": "stream",
     "text": [
      "first_send_rentals\n",
      "P-Value = 2.2741479754307204e-78. Groups do not have equal variance \n",
      "\n",
      "second_send_rentals\n",
      "P-Value = 1.9492005462513068e-42. Groups do not have equal variance \n",
      "\n",
      "third_send_rentals\n",
      "P-Value = 2.9169342836078895e-09. Groups do not have equal variance \n",
      "\n",
      "total_one_week_rental_count\n",
      "P-Value = 1.8762109167794478e-103. Groups do not have equal variance \n",
      "\n",
      "converted\n",
      "P-Value = 1.288782085293977e-255. Groups do not have equal variance \n",
      "\n"
     ]
    }
   ],
   "source": [
    "def test_homogeneity_of_variance(df, test_column, test_groups, p_value = 0.05):\n",
    "    print(test_column)\n",
    "    x, pval = stats.levene(df[test_column][df[test_groups] == 'Control'],\n",
    "                           df[test_column][df[test_groups] == 'Test'],\n",
    "                           center='mean')\n",
    "\n",
    "    if pval > p_value:\n",
    "        print('P-Value = {}. Groups have equal variance'.format(pval), \"\\n\")\n",
    "    else:\n",
    "        print('P-Value = {}. Groups do not have equal variance'.format(pval), \"\\n\")\n",
    "\n",
    "test_value_columns = ['first_send_rentals', 'second_send_rentals', 'third_send_rentals', 'total_one_week_rental_count', 'converted']\n",
    "for column in test_value_columns:\n",
    "    test_homogeneity_of_variance(df, column,'test_group')\n",
    "    "
   ]
  },
  {
   "cell_type": "code",
   "execution_count": 28,
   "id": "d0dabd59",
   "metadata": {},
   "outputs": [
    {
     "data": {
      "text/html": [
       "<style type=\"text/css\">\n",
       "</style>\n",
       "<table id=\"T_213a3_\">\n",
       "  <thead>\n",
       "    <tr>\n",
       "      <th class=\"blank level0\" >&nbsp;</th>\n",
       "      <th class=\"col_heading level0 col0\" >renter_id</th>\n",
       "      <th class=\"col_heading level0 col1\" >first_send_rentals</th>\n",
       "      <th class=\"col_heading level0 col2\" >second_send_rentals</th>\n",
       "      <th class=\"col_heading level0 col3\" >third_send_rentals</th>\n",
       "      <th class=\"col_heading level0 col4\" >total_one_week_rental_count</th>\n",
       "      <th class=\"col_heading level0 col5\" >converted</th>\n",
       "      <th class=\"col_heading level0 col6\" >first_send_rentals_per_renter</th>\n",
       "      <th class=\"col_heading level0 col7\" >second_send_rentals_per_renter</th>\n",
       "      <th class=\"col_heading level0 col8\" >third_send_rentals_per_renter</th>\n",
       "      <th class=\"col_heading level0 col9\" >one_week_rentals_per_renter</th>\n",
       "    </tr>\n",
       "    <tr>\n",
       "      <th class=\"index_name level0\" >test_group</th>\n",
       "      <th class=\"blank col0\" >&nbsp;</th>\n",
       "      <th class=\"blank col1\" >&nbsp;</th>\n",
       "      <th class=\"blank col2\" >&nbsp;</th>\n",
       "      <th class=\"blank col3\" >&nbsp;</th>\n",
       "      <th class=\"blank col4\" >&nbsp;</th>\n",
       "      <th class=\"blank col5\" >&nbsp;</th>\n",
       "      <th class=\"blank col6\" >&nbsp;</th>\n",
       "      <th class=\"blank col7\" >&nbsp;</th>\n",
       "      <th class=\"blank col8\" >&nbsp;</th>\n",
       "      <th class=\"blank col9\" >&nbsp;</th>\n",
       "    </tr>\n",
       "  </thead>\n",
       "  <tbody>\n",
       "    <tr>\n",
       "      <th id=\"T_213a3_level0_row0\" class=\"row_heading level0 row0\" >Control</th>\n",
       "      <td id=\"T_213a3_row0_col0\" class=\"data row0 col0\" >47495.00</td>\n",
       "      <td id=\"T_213a3_row0_col1\" class=\"data row0 col1\" >3896.00</td>\n",
       "      <td id=\"T_213a3_row0_col2\" class=\"data row0 col2\" >2518.00</td>\n",
       "      <td id=\"T_213a3_row0_col3\" class=\"data row0 col3\" >1842.00</td>\n",
       "      <td id=\"T_213a3_row0_col4\" class=\"data row0 col4\" >8256.00</td>\n",
       "      <td id=\"T_213a3_row0_col5\" class=\"data row0 col5\" >0.14</td>\n",
       "      <td id=\"T_213a3_row0_col6\" class=\"data row0 col6\" >0.08</td>\n",
       "      <td id=\"T_213a3_row0_col7\" class=\"data row0 col7\" >0.05</td>\n",
       "      <td id=\"T_213a3_row0_col8\" class=\"data row0 col8\" >0.04</td>\n",
       "      <td id=\"T_213a3_row0_col9\" class=\"data row0 col9\" >0.17</td>\n",
       "    </tr>\n",
       "    <tr>\n",
       "      <th id=\"T_213a3_level0_row1\" class=\"row_heading level0 row1\" >Test</th>\n",
       "      <td id=\"T_213a3_row1_col0\" class=\"data row1 col0\" >14751.00</td>\n",
       "      <td id=\"T_213a3_row1_col1\" class=\"data row1 col1\" >685.00</td>\n",
       "      <td id=\"T_213a3_row1_col2\" class=\"data row1 col2\" >477.00</td>\n",
       "      <td id=\"T_213a3_row1_col3\" class=\"data row1 col3\" >459.00</td>\n",
       "      <td id=\"T_213a3_row1_col4\" class=\"data row1 col4\" >1621.00</td>\n",
       "      <td id=\"T_213a3_row1_col5\" class=\"data row1 col5\" >0.09</td>\n",
       "      <td id=\"T_213a3_row1_col6\" class=\"data row1 col6\" >0.05</td>\n",
       "      <td id=\"T_213a3_row1_col7\" class=\"data row1 col7\" >0.03</td>\n",
       "      <td id=\"T_213a3_row1_col8\" class=\"data row1 col8\" >0.03</td>\n",
       "      <td id=\"T_213a3_row1_col9\" class=\"data row1 col9\" >0.11</td>\n",
       "    </tr>\n",
       "  </tbody>\n",
       "</table>\n"
      ],
      "text/plain": [
       "<pandas.io.formats.style.Styler at 0x7fcf625549d0>"
      ]
     },
     "execution_count": 28,
     "metadata": {},
     "output_type": "execute_result"
    }
   ],
   "source": [
    "stats_per_renter = df.groupby('test_group').agg({'renter_id':'count', 'first_send_rentals': 'sum', 'second_send_rentals': 'sum', 'third_send_rentals': 'sum', 'total_one_week_rental_count': 'sum', 'converted': 'sum'})\n",
    "stats_per_renter['first_send_rentals_per_renter'] = stats_per_renter['first_send_rentals'] / stats_per_renter['renter_id']\n",
    "stats_per_renter['second_send_rentals_per_renter'] = stats_per_renter['second_send_rentals'] / stats_per_renter['renter_id']\n",
    "stats_per_renter['third_send_rentals_per_renter'] = stats_per_renter['third_send_rentals'] / stats_per_renter['renter_id']\n",
    "stats_per_renter['one_week_rentals_per_renter'] = stats_per_renter['total_one_week_rental_count'] / stats_per_renter['renter_id']\n",
    "stats_per_renter['converted'] = stats_per_renter['converted'] / stats_per_renter['renter_id']\n",
    "stats_per_renter.style.format('{:.2f}')"
   ]
  },
  {
   "cell_type": "code",
   "execution_count": 17,
   "id": "d2922d13",
   "metadata": {},
   "outputs": [
    {
     "data": {
      "text/plain": [
       "test_group\n",
       "Control    12487\n",
       "Test        1294\n",
       "Name: converted, dtype: int64"
      ]
     },
     "execution_count": 17,
     "metadata": {},
     "output_type": "execute_result"
    }
   ],
   "source": [
    "df.groupby('test_group')['converted'].sum()"
   ]
  },
  {
   "cell_type": "code",
   "execution_count": 18,
   "id": "a7c8c40d",
   "metadata": {},
   "outputs": [
    {
     "data": {
      "text/plain": [
       "(   Variable        N      Mean        SD        SE  95% Conf.  Interval\n",
       " 0   Control  47495.0  0.278071  0.801740  0.003679   0.270861  0.285282\n",
       " 1      Test  14751.0  0.046438  0.316677  0.002607   0.041327  0.051548\n",
       " 2  combined  62246.0  0.223179  0.723825  0.002901   0.217493  0.228865,\n",
       "                    Welch's t-test     results\n",
       " 0  Difference (Control - Test) =       0.2316\n",
       " 1           Degrees of freedom =   59144.1696\n",
       " 2                            t =      51.3700\n",
       " 3        Two side test p value =       0.0000\n",
       " 4       Difference < 0 p value =       1.0000\n",
       " 5       Difference > 0 p value =       0.0000\n",
       " 6                    Cohen's d =       0.3230\n",
       " 7                    Hedge's g =       0.3230\n",
       " 8                Glass's delta =       0.2889\n",
       " 9                  Pearson's r =       0.2067)"
      ]
     },
     "execution_count": 18,
     "metadata": {},
     "output_type": "execute_result"
    }
   ],
   "source": [
    "import researchpy as rp\n",
    "\n",
    "rp.ttest(group1= df['first_send_rentals'][df['test_group'] == 'Control'], group1_name= \"Control\",\n",
    "         group2= df['first_send_rentals'][df['test_group'] == 'Test'], group2_name= \"Test\",equal_variances=False)"
   ]
  },
  {
   "cell_type": "code",
   "execution_count": 19,
   "id": "a8e1f063",
   "metadata": {},
   "outputs": [
    {
     "data": {
      "text/plain": [
       "(   Variable        N      Mean        SD        SE  95% Conf.  Interval\n",
       " 0   Control  47495.0  0.053016  0.339820  0.001559   0.049960  0.056072\n",
       " 1      Test  14751.0  0.032337  0.209855  0.001728   0.028950  0.035724\n",
       " 2  combined  62246.0  0.048116  0.314046  0.001259   0.045648  0.050583,\n",
       "                    Welch's t-test     results\n",
       " 0  Difference (Control - Test) =       0.0207\n",
       " 1           Degrees of freedom =   40266.7026\n",
       " 2                            t =       8.8851\n",
       " 3        Two side test p value =       0.0000\n",
       " 4       Difference < 0 p value =       1.0000\n",
       " 5       Difference > 0 p value =       0.0000\n",
       " 6                    Cohen's d =       0.0659\n",
       " 7                    Hedge's g =       0.0659\n",
       " 8                Glass's delta =       0.0609\n",
       " 9                  Pearson's r =       0.0442)"
      ]
     },
     "execution_count": 19,
     "metadata": {},
     "output_type": "execute_result"
    }
   ],
   "source": [
    "rp.ttest(group1= df['second_send_rentals'][df['test_group'] == 'Control'], group1_name= \"Control\",\n",
    "         group2= df['second_send_rentals'][df['test_group'] == 'Test'], group2_name= \"Test\",equal_variances=False)"
   ]
  },
  {
   "cell_type": "code",
   "execution_count": 20,
   "id": "5737cc1f",
   "metadata": {},
   "outputs": [
    {
     "data": {
      "text/plain": [
       "(   Variable        N      Mean        SD        SE  95% Conf.  Interval\n",
       " 0   Control  47495.0  0.369871  0.910575  0.004178   0.361681  0.378060\n",
       " 1      Test  14751.0  0.109891  0.448792  0.003695   0.102648  0.117134\n",
       " 2  combined  62246.0  0.308261  0.832228  0.003336   0.301723  0.314799,\n",
       "                    Welch's t-test     results\n",
       " 0  Difference (Control - Test) =       0.2600\n",
       " 1           Degrees of freedom =   50795.6739\n",
       " 2                            t =      46.6097\n",
       " 3        Two side test p value =       0.0000\n",
       " 4       Difference < 0 p value =       1.0000\n",
       " 5       Difference > 0 p value =       0.0000\n",
       " 6                    Cohen's d =       0.3152\n",
       " 7                    Hedge's g =       0.3152\n",
       " 8                Glass's delta =       0.2855\n",
       " 9                  Pearson's r =       0.2025)"
      ]
     },
     "execution_count": 20,
     "metadata": {},
     "output_type": "execute_result"
    }
   ],
   "source": [
    "rp.ttest(group1= df['total_one_week_rental_count'][df['test_group'] == 'Control'], group1_name= \"Control\",\n",
    "         group2= df['total_one_week_rental_count'][df['test_group'] == 'Test'], group2_name= \"Test\",equal_variances=False)"
   ]
  },
  {
   "cell_type": "code",
   "execution_count": 22,
   "id": "cef5947b",
   "metadata": {},
   "outputs": [
    {
     "data": {
      "text/plain": [
       "(   Variable        N      Mean        SD        SE  95% Conf.  Interval\n",
       " 0   Control  47495.0  0.468049  1.068044  0.004901   0.458444  0.477655\n",
       " 1      Test  14751.0  0.323707  0.881343  0.007257   0.309483  0.337931\n",
       " 2  combined  62246.0  0.433843  1.028699  0.004123   0.425762  0.441925,\n",
       "                    Welch's t-test     results\n",
       " 0  Difference (Control - Test) =       0.1443\n",
       " 1           Degrees of freedom =   29377.3846\n",
       " 2                            t =      16.4840\n",
       " 3        Two side test p value =       0.0000\n",
       " 4       Difference < 0 p value =       1.0000\n",
       " 5       Difference > 0 p value =       0.0000\n",
       " 6                    Cohen's d =       0.1406\n",
       " 7                    Hedge's g =       0.1406\n",
       " 8                Glass's delta =       0.1351\n",
       " 9                  Pearson's r =       0.0957)"
      ]
     },
     "execution_count": 22,
     "metadata": {},
     "output_type": "execute_result"
    }
   ],
   "source": [
    "rp.ttest(group1= df['total_rental_count'][df['test_group'] == 'Control'], group1_name= \"Control\",\n",
    "         group2= df['total_rental_count'][df['test_group'] == 'Test'], group2_name= \"Test\",equal_variances=False)"
   ]
  },
  {
   "cell_type": "code",
   "execution_count": null,
   "id": "c028312e",
   "metadata": {},
   "outputs": [],
   "source": []
  }
 ],
 "metadata": {
  "kernelspec": {
   "display_name": "Python 3 (ipykernel)",
   "language": "python",
   "name": "python3"
  },
  "language_info": {
   "codemirror_mode": {
    "name": "ipython",
    "version": 3
   },
   "file_extension": ".py",
   "mimetype": "text/x-python",
   "name": "python",
   "nbconvert_exporter": "python",
   "pygments_lexer": "ipython3",
   "version": "3.9.7"
  }
 },
 "nbformat": 4,
 "nbformat_minor": 5
}
